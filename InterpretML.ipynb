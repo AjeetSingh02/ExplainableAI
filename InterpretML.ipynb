{
 "cells": [
  {
   "cell_type": "code",
   "execution_count": 1,
   "metadata": {},
   "outputs": [
    {
     "name": "stdout",
     "output_type": "stream",
     "text": [
      "Requirement already satisfied: numpy in /home/ajeet/anaconda3/lib/python3.7/site-packages (1.15.4)\n",
      "Requirement already satisfied: scipy in /home/ajeet/anaconda3/lib/python3.7/site-packages (1.1.0)\n",
      "Collecting pyscaffold\n",
      "\u001b[?25l  Downloading https://files.pythonhosted.org/packages/d3/3f/0ce77998683cb7967ba7d98b114b8a6a954a731b812f455dee57f1636853/PyScaffold-3.1-py3-none-any.whl (163kB)\n",
      "\u001b[K    100% |████████████████████████████████| 174kB 17kB/s ta 0:00:011\n",
      "\u001b[?25hRequirement already satisfied: setuptools>=38.3 in /home/ajeet/anaconda3/lib/python3.7/site-packages (from pyscaffold) (40.6.3)\n",
      "Installing collected packages: pyscaffold\n",
      "Successfully installed pyscaffold-3.1\n"
     ]
    }
   ],
   "source": [
    "!pip install numpy scipy pyscaffold"
   ]
  },
  {
   "cell_type": "code",
   "execution_count": 3,
   "metadata": {},
   "outputs": [
    {
     "name": "stdout",
     "output_type": "stream",
     "text": [
      "Collecting interpret\n",
      "  Using cached https://files.pythonhosted.org/packages/28/6c/5da380a004ac2f63dd6d1370d24d53710bdb83aeaee37ab8e4b7f15681e6/interpret-0.1.7-py3-none-any.whl\n",
      "Requirement already satisfied, skipping upgrade: ipykernel>=5.1.0 in /home/ajeet/anaconda3/lib/python3.7/site-packages (from interpret) (5.1.0)\n",
      "Collecting dash-table-experiments==0.6.0 (from interpret)\n",
      "\u001b[?25l  Downloading https://files.pythonhosted.org/packages/6f/4a/e201fe7419a250c35635fb0b81f3cba8cf19ed4e3663fda6cd08e7bd0655/dash_table_experiments-0.6.0.tar.gz (738kB)\n",
      "\u001b[K    100% |████████████████████████████████| 747kB 1.3MB/s ta 0:00:01\n",
      "\u001b[?25hCollecting pytest-runner>=4.4 (from interpret)\n",
      "  Downloading https://files.pythonhosted.org/packages/f8/31/f291d04843523406f242e63b5b90f7b204a756169b4250ff213e10326deb/pytest_runner-5.1-py2.py3-none-any.whl\n",
      "Collecting dash-html-components==0.14.0 (from interpret)\n",
      "\u001b[?25l  Downloading https://files.pythonhosted.org/packages/08/1f/943c0f90d957fdff6c5968ea80694b2959d0b0ec959be17a1478e3c97e5a/dash_html_components-0.14.0.tar.gz (537kB)\n",
      "\u001b[K    100% |████████████████████████████████| 542kB 1.6MB/s ta 0:00:01\n",
      "\u001b[?25hCollecting nbconvert>=5.4.1 (from interpret)\n",
      "\u001b[?25l  Downloading https://files.pythonhosted.org/packages/35/e7/f46c9d65f149271e47fca6ab084ef5c6e4cb1870f4c5cce6690feac55231/nbconvert-5.5.0-py2.py3-none-any.whl (447kB)\n",
      "\u001b[K    100% |████████████████████████████████| 450kB 1.7MB/s ta 0:00:01\n",
      "\u001b[?25hCollecting skope-rules>=1.0.0 (from interpret)\n",
      "\u001b[?25l  Downloading https://files.pythonhosted.org/packages/56/b0/b56fb8d186f35089a469dc788c32ac99cf0276eae567736325b179b71db0/skope-rules-1.0.0.tar.gz (2.0MB)\n",
      "\u001b[K    100% |████████████████████████████████| 2.0MB 1.1MB/s ta 0:00:01\n",
      "\u001b[?25hCollecting dash-renderer==0.20.0 (from interpret)\n",
      "\u001b[?25l  Downloading https://files.pythonhosted.org/packages/c4/dd/f686321d054bb1e145d3a7d1f6600516de535b0d597bcf7701dbb96b1262/dash_renderer-0.20.0.tar.gz (920kB)\n",
      "\u001b[K    100% |████████████████████████████████| 921kB 1.6MB/s ta 0:00:01\n",
      "\u001b[?25hCollecting dash-core-components==0.44.0 (from interpret)\n",
      "\u001b[?25l  Downloading https://files.pythonhosted.org/packages/07/8b/e7193b60288f62c6c40da7d3fdbd01ccdc6752dbf25e9ef60912a5948938/dash_core_components-0.44.0.tar.gz (4.2MB)\n",
      "\u001b[K    100% |████████████████████████████████| 4.2MB 1.3MB/s ta 0:00:01\n",
      "\u001b[?25hRequirement already satisfied, skipping upgrade: scikit-learn>=0.20.0 in /home/ajeet/anaconda3/lib/python3.7/site-packages (from interpret) (0.20.1)\n",
      "Collecting dash==0.39.0 (from interpret)\n",
      "\u001b[?25l  Downloading https://files.pythonhosted.org/packages/38/c0/353ba9f56f171389f0b4985f0481805219fc1921d651586c51345b89c1ea/dash-0.39.0.tar.gz (40kB)\n",
      "\u001b[K    100% |████████████████████████████████| 40kB 1.8MB/s ta 0:00:01\n",
      "\u001b[?25hCollecting SALib>=1.3.3 (from interpret)\n",
      "\u001b[?25l  Downloading https://files.pythonhosted.org/packages/df/cb/59b98643ad0105cc5f8e6c1c0a154a854cf9539cc6892f5b28904ed61fb9/SALib-1.3.6.tar.gz (749kB)\n",
      "\u001b[K    100% |████████████████████████████████| 757kB 1.8MB/s ta 0:00:01\n",
      "\u001b[?25hCollecting scipy>=1.2.1 (from interpret)\n",
      "\u001b[?25l  Downloading https://files.pythonhosted.org/packages/5d/bd/c0feba81fb60e231cf40fc8a322ed5873c90ef7711795508692b1481a4ae/scipy-1.3.0-cp37-cp37m-manylinux1_x86_64.whl (25.2MB)\n",
      "\u001b[K    100% |████████████████████████████████| 25.2MB 269kB/s ta 0:00:01\n",
      "\u001b[?25hCollecting lime>=0.1.1.33 (from interpret)\n",
      "\u001b[?25l  Downloading https://files.pythonhosted.org/packages/07/20/a4a59ed562610e19fea333da48bb5fab978a72acbe8e831930f444cd69c9/lime-0.1.1.34.tar.gz (272kB)\n",
      "\u001b[K    100% |████████████████████████████████| 276kB 2.3MB/s ta 0:00:01\n",
      "\u001b[?25hCollecting pandas>=0.24.0 (from interpret)\n",
      "\u001b[?25l  Downloading https://files.pythonhosted.org/packages/22/e6/2d47835f91eb010036be207581fa113fb4e3822ec1b4bafb0d3d105fede6/pandas-0.24.2-cp37-cp37m-manylinux1_x86_64.whl (10.1MB)\n",
      "\u001b[K    100% |████████████████████████████████| 10.1MB 1.2MB/s ta 0:00:01\n",
      "\u001b[?25hCollecting ipython>=7.4.0 (from interpret)\n",
      "\u001b[?25l  Downloading https://files.pythonhosted.org/packages/a9/2e/41dce4ed129057e05a555a7f9629aa2d5f81fdcd4d16568bc24b75a1d2c9/ipython-7.5.0-py3-none-any.whl (770kB)\n",
      "\u001b[K    100% |████████████████████████████████| 778kB 1.6MB/s ta 0:00:01\n",
      "\u001b[?25hRequirement already satisfied, skipping upgrade: numpy>=1.15.1 in /home/ajeet/anaconda3/lib/python3.7/site-packages (from interpret) (1.15.4)\n",
      "Collecting dash-cytoscape==0.1.1 (from interpret)\n",
      "  Using cached https://files.pythonhosted.org/packages/aa/93/d9db22331dcad4a055631372816bf4544a1a1a852fb2fa3a2905c6682198/dash_cytoscape-0.1.1.tar.gz\n",
      "Collecting pytest>=4.3.0 (from interpret)\n",
      "\u001b[?25l  Downloading https://files.pythonhosted.org/packages/cd/eb/04a30246424f5664a8fb72d982a57f60399642a63d24c7fdfaf70d673c27/pytest-4.6.2-py2.py3-none-any.whl (229kB)\n",
      "\u001b[K    100% |████████████████████████████████| 235kB 2.4MB/s ta 0:00:01\n",
      "\u001b[?25hCollecting gevent>=1.4.0 (from interpret)\n",
      "\u001b[?25l  Downloading https://files.pythonhosted.org/packages/d4/89/57b63d6d7967d8763b913172bf6831afb01951b9ed9da127f2938a365585/gevent-1.4.0-cp37-cp37m-manylinux1_x86_64.whl (5.4MB)\n",
      "\u001b[K    100% |████████████████████████████████| 5.4MB 1.2MB/s ta 0:00:01\n",
      "\u001b[?25hCollecting joblib>=0.12.5 (from interpret)\n",
      "\u001b[?25l  Downloading https://files.pythonhosted.org/packages/cd/c1/50a758e8247561e58cb87305b1e90b171b8c767b15b12a1734001f41d356/joblib-0.13.2-py2.py3-none-any.whl (278kB)\n",
      "\u001b[K    100% |████████████████████████████████| 286kB 3.0MB/s ta 0:00:01\n",
      "\u001b[?25hCollecting plotly>=3.8.1 (from interpret)\n",
      "\u001b[?25l  Downloading https://files.pythonhosted.org/packages/ff/75/3982bac5076d0ce6d23103c03840fcaec90c533409f9d82c19f54512a38a/plotly-3.10.0-py2.py3-none-any.whl (41.5MB)\n",
      "\u001b[K    100% |████████████████████████████████| 41.5MB 671kB/s ta 0:00:01\n",
      "\u001b[?25hCollecting shap>=0.28.5 (from interpret)\n",
      "\u001b[?25l  Downloading https://files.pythonhosted.org/packages/b4/24/c6c06e5ebdcfce4318dd9b5a8b3f3c1f87b45670105f241a9f99aa1f39e2/shap-0.29.1.tar.gz (229kB)\n",
      "\u001b[K    100% |████████████████████████████████| 235kB 2.0MB/s ta 0:00:01\n",
      "\u001b[?25hCollecting psutil>=5.6.2 (from interpret)\n",
      "\u001b[?25l  Downloading https://files.pythonhosted.org/packages/c6/c1/beed5e4eaa1345901b595048fab1c85aee647ea0fc02d9e8bf9aceb81078/psutil-5.6.2.tar.gz (432kB)\n",
      "\u001b[K    100% |████████████████████████████████| 440kB 1.5MB/s ta 0:00:01\n",
      "\u001b[?25hRequirement already satisfied, skipping upgrade: tornado>=4.2 in /home/ajeet/anaconda3/lib/python3.7/site-packages (from ipykernel>=5.1.0->interpret) (5.1.1)\n",
      "Requirement already satisfied, skipping upgrade: jupyter-client in /home/ajeet/anaconda3/lib/python3.7/site-packages (from ipykernel>=5.1.0->interpret) (5.2.4)\n",
      "Requirement already satisfied, skipping upgrade: traitlets>=4.1.0 in /home/ajeet/anaconda3/lib/python3.7/site-packages (from ipykernel>=5.1.0->interpret) (4.3.2)\n",
      "Requirement already satisfied, skipping upgrade: jupyter-core in /home/ajeet/anaconda3/lib/python3.7/site-packages (from nbconvert>=5.4.1->interpret) (4.4.0)\n",
      "Requirement already satisfied, skipping upgrade: entrypoints>=0.2.2 in /home/ajeet/anaconda3/lib/python3.7/site-packages (from nbconvert>=5.4.1->interpret) (0.2.3)\n",
      "Requirement already satisfied, skipping upgrade: pandocfilters>=1.4.1 in /home/ajeet/anaconda3/lib/python3.7/site-packages (from nbconvert>=5.4.1->interpret) (1.4.2)\n",
      "Requirement already satisfied, skipping upgrade: defusedxml in /home/ajeet/anaconda3/lib/python3.7/site-packages (from nbconvert>=5.4.1->interpret) (0.5.0)\n",
      "Requirement already satisfied, skipping upgrade: pygments in /home/ajeet/anaconda3/lib/python3.7/site-packages (from nbconvert>=5.4.1->interpret) (2.3.1)\n",
      "Requirement already satisfied, skipping upgrade: nbformat>=4.4 in /home/ajeet/anaconda3/lib/python3.7/site-packages (from nbconvert>=5.4.1->interpret) (4.4.0)\n",
      "Requirement already satisfied, skipping upgrade: testpath in /home/ajeet/anaconda3/lib/python3.7/site-packages (from nbconvert>=5.4.1->interpret) (0.4.2)\n",
      "Requirement already satisfied, skipping upgrade: bleach in /home/ajeet/anaconda3/lib/python3.7/site-packages (from nbconvert>=5.4.1->interpret) (3.0.2)\n",
      "Requirement already satisfied, skipping upgrade: jinja2>=2.4 in /home/ajeet/anaconda3/lib/python3.7/site-packages (from nbconvert>=5.4.1->interpret) (2.10)\n",
      "Requirement already satisfied, skipping upgrade: mistune>=0.8.1 in /home/ajeet/anaconda3/lib/python3.7/site-packages (from nbconvert>=5.4.1->interpret) (0.8.4)\n",
      "Requirement already satisfied, skipping upgrade: Flask>=0.12 in /home/ajeet/anaconda3/lib/python3.7/site-packages (from dash==0.39.0->interpret) (1.0.2)\n"
     ]
    },
    {
     "name": "stdout",
     "output_type": "stream",
     "text": [
      "Collecting flask-compress (from dash==0.39.0->interpret)\n",
      "  Downloading https://files.pythonhosted.org/packages/0e/2a/378bd072928f6d92fd8c417d66b00c757dc361c0405a46a0134de6fd323d/Flask-Compress-1.4.0.tar.gz\n",
      "Collecting dash-table==3.6.0 (from dash==0.39.0->interpret)\n",
      "\u001b[?25l  Downloading https://files.pythonhosted.org/packages/a3/3a/eae584bb7eccdf93d2931c4ebf43e55937cf22d51ad63551241fc83d68fc/dash_table-3.6.0.tar.gz (468kB)\n",
      "\u001b[K    100% |████████████████████████████████| 471kB 2.3MB/s ta 0:00:01\n",
      "\u001b[?25hRequirement already satisfied, skipping upgrade: matplotlib in /home/ajeet/anaconda3/lib/python3.7/site-packages (from SALib>=1.3.3->interpret) (3.0.2)\n",
      "Requirement already satisfied, skipping upgrade: scikit-image>=0.12 in /home/ajeet/anaconda3/lib/python3.7/site-packages (from lime>=0.1.1.33->interpret) (0.14.1)\n",
      "Requirement already satisfied, skipping upgrade: python-dateutil>=2.5.0 in /home/ajeet/anaconda3/lib/python3.7/site-packages (from pandas>=0.24.0->interpret) (2.7.5)\n",
      "Requirement already satisfied, skipping upgrade: pytz>=2011k in /home/ajeet/anaconda3/lib/python3.7/site-packages (from pandas>=0.24.0->interpret) (2018.7)\n",
      "Requirement already satisfied, skipping upgrade: jedi>=0.10 in /home/ajeet/anaconda3/lib/python3.7/site-packages (from ipython>=7.4.0->interpret) (0.13.2)\n",
      "Requirement already satisfied, skipping upgrade: prompt-toolkit<2.1.0,>=2.0.0 in /home/ajeet/anaconda3/lib/python3.7/site-packages (from ipython>=7.4.0->interpret) (2.0.7)\n",
      "Requirement already satisfied, skipping upgrade: backcall in /home/ajeet/anaconda3/lib/python3.7/site-packages (from ipython>=7.4.0->interpret) (0.1.0)\n",
      "Requirement already satisfied, skipping upgrade: setuptools>=18.5 in /home/ajeet/anaconda3/lib/python3.7/site-packages (from ipython>=7.4.0->interpret) (40.6.3)\n",
      "Requirement already satisfied, skipping upgrade: pickleshare in /home/ajeet/anaconda3/lib/python3.7/site-packages (from ipython>=7.4.0->interpret) (0.7.5)\n",
      "Requirement already satisfied, skipping upgrade: decorator in /home/ajeet/anaconda3/lib/python3.7/site-packages (from ipython>=7.4.0->interpret) (4.3.0)\n",
      "Requirement already satisfied, skipping upgrade: pexpect; sys_platform != \"win32\" in /home/ajeet/anaconda3/lib/python3.7/site-packages (from ipython>=7.4.0->interpret) (4.6.0)\n",
      "Requirement already satisfied, skipping upgrade: packaging in /home/ajeet/anaconda3/lib/python3.7/site-packages (from pytest>=4.3.0->interpret) (18.0)\n",
      "Collecting pluggy<1.0,>=0.12 (from pytest>=4.3.0->interpret)\n",
      "  Downloading https://files.pythonhosted.org/packages/06/ee/de89e0582276e3551df3110088bf20844de2b0e7df2748406876cc78e021/pluggy-0.12.0-py2.py3-none-any.whl\n",
      "Requirement already satisfied, skipping upgrade: py>=1.5.0 in /home/ajeet/anaconda3/lib/python3.7/site-packages (from pytest>=4.3.0->interpret) (1.7.0)\n",
      "Requirement already satisfied, skipping upgrade: more-itertools>=4.0.0; python_version > \"2.7\" in /home/ajeet/anaconda3/lib/python3.7/site-packages (from pytest>=4.3.0->interpret) (4.3.0)\n",
      "Requirement already satisfied, skipping upgrade: six>=1.10.0 in /home/ajeet/anaconda3/lib/python3.7/site-packages (from pytest>=4.3.0->interpret) (1.12.0)\n",
      "Requirement already satisfied, skipping upgrade: wcwidth in /home/ajeet/anaconda3/lib/python3.7/site-packages (from pytest>=4.3.0->interpret) (0.1.7)\n",
      "Collecting importlib-metadata>=0.12 (from pytest>=4.3.0->interpret)\n",
      "  Downloading https://files.pythonhosted.org/packages/7f/72/5e13a37e989bdb54ac3f52808e122cbd9b878ac980f932dc237ff64f8a00/importlib_metadata-0.17-py2.py3-none-any.whl\n",
      "Requirement already satisfied, skipping upgrade: attrs>=17.4.0 in /home/ajeet/anaconda3/lib/python3.7/site-packages (from pytest>=4.3.0->interpret) (18.2.0)\n",
      "Requirement already satisfied, skipping upgrade: atomicwrites>=1.0 in /home/ajeet/anaconda3/lib/python3.7/site-packages (from pytest>=4.3.0->interpret) (1.2.1)\n",
      "Requirement already satisfied, skipping upgrade: greenlet>=0.4.14; platform_python_implementation == \"CPython\" in /home/ajeet/anaconda3/lib/python3.7/site-packages (from gevent>=1.4.0->interpret) (0.4.15)\n",
      "Collecting retrying>=1.3.3 (from plotly>=3.8.1->interpret)\n",
      "  Downloading https://files.pythonhosted.org/packages/44/ef/beae4b4ef80902f22e3af073397f079c96969c69b2c7d52a57ea9ae61c9d/retrying-1.3.3.tar.gz\n",
      "Requirement already satisfied, skipping upgrade: requests in /home/ajeet/anaconda3/lib/python3.7/site-packages (from plotly>=3.8.1->interpret) (2.21.0)\n",
      "Requirement already satisfied, skipping upgrade: tqdm in /home/ajeet/anaconda3/lib/python3.7/site-packages (from shap>=0.28.5->interpret) (4.28.1)\n",
      "Requirement already satisfied, skipping upgrade: pyzmq>=13 in /home/ajeet/anaconda3/lib/python3.7/site-packages (from jupyter-client->ipykernel>=5.1.0->interpret) (17.1.2)\n",
      "Requirement already satisfied, skipping upgrade: ipython-genutils in /home/ajeet/anaconda3/lib/python3.7/site-packages (from traitlets>=4.1.0->ipykernel>=5.1.0->interpret) (0.2.0)\n",
      "Requirement already satisfied, skipping upgrade: jsonschema!=2.5.0,>=2.4 in /home/ajeet/anaconda3/lib/python3.7/site-packages (from nbformat>=4.4->nbconvert>=5.4.1->interpret) (2.6.0)\n",
      "Requirement already satisfied, skipping upgrade: webencodings in /home/ajeet/anaconda3/lib/python3.7/site-packages (from bleach->nbconvert>=5.4.1->interpret) (0.5.1)\n",
      "Requirement already satisfied, skipping upgrade: MarkupSafe>=0.23 in /home/ajeet/anaconda3/lib/python3.7/site-packages (from jinja2>=2.4->nbconvert>=5.4.1->interpret) (1.1.0)\n",
      "Requirement already satisfied, skipping upgrade: Werkzeug>=0.14 in /home/ajeet/anaconda3/lib/python3.7/site-packages (from Flask>=0.12->dash==0.39.0->interpret) (0.14.1)\n",
      "Requirement already satisfied, skipping upgrade: click>=5.1 in /home/ajeet/anaconda3/lib/python3.7/site-packages (from Flask>=0.12->dash==0.39.0->interpret) (7.0)\n",
      "Requirement already satisfied, skipping upgrade: itsdangerous>=0.24 in /home/ajeet/anaconda3/lib/python3.7/site-packages (from Flask>=0.12->dash==0.39.0->interpret) (1.1.0)\n",
      "Requirement already satisfied, skipping upgrade: cycler>=0.10 in /home/ajeet/anaconda3/lib/python3.7/site-packages (from matplotlib->SALib>=1.3.3->interpret) (0.10.0)\n",
      "Requirement already satisfied, skipping upgrade: kiwisolver>=1.0.1 in /home/ajeet/anaconda3/lib/python3.7/site-packages (from matplotlib->SALib>=1.3.3->interpret) (1.0.1)\n",
      "Requirement already satisfied, skipping upgrade: pyparsing!=2.0.4,!=2.1.2,!=2.1.6,>=2.0.1 in /home/ajeet/anaconda3/lib/python3.7/site-packages (from matplotlib->SALib>=1.3.3->interpret) (2.3.0)\n",
      "Requirement already satisfied, skipping upgrade: networkx>=1.8 in /home/ajeet/anaconda3/lib/python3.7/site-packages (from scikit-image>=0.12->lime>=0.1.1.33->interpret) (2.2)\n",
      "Requirement already satisfied, skipping upgrade: pillow>=4.3.0 in /home/ajeet/anaconda3/lib/python3.7/site-packages (from scikit-image>=0.12->lime>=0.1.1.33->interpret) (5.3.0)\n",
      "Requirement already satisfied, skipping upgrade: PyWavelets>=0.4.0 in /home/ajeet/anaconda3/lib/python3.7/site-packages (from scikit-image>=0.12->lime>=0.1.1.33->interpret) (1.0.1)\n",
      "Requirement already satisfied, skipping upgrade: dask[array]>=0.9.0 in /home/ajeet/anaconda3/lib/python3.7/site-packages (from scikit-image>=0.12->lime>=0.1.1.33->interpret) (1.0.0)\n",
      "Requirement already satisfied, skipping upgrade: cloudpickle>=0.2.1 in /home/ajeet/anaconda3/lib/python3.7/site-packages (from scikit-image>=0.12->lime>=0.1.1.33->interpret) (0.6.1)\n",
      "Requirement already satisfied, skipping upgrade: parso>=0.3.0 in /home/ajeet/anaconda3/lib/python3.7/site-packages (from jedi>=0.10->ipython>=7.4.0->interpret) (0.3.1)\n",
      "Requirement already satisfied, skipping upgrade: ptyprocess>=0.5 in /home/ajeet/anaconda3/lib/python3.7/site-packages (from pexpect; sys_platform != \"win32\"->ipython>=7.4.0->interpret) (0.6.0)\n",
      "Collecting zipp>=0.5 (from importlib-metadata>=0.12->pytest>=4.3.0->interpret)\n",
      "  Downloading https://files.pythonhosted.org/packages/a0/0f/9bf71d438d2e9d5fd0e4569ea4d1a2b6f5a524c234c6d221b494298bb4d1/zipp-0.5.1-py2.py3-none-any.whl\n",
      "Requirement already satisfied, skipping upgrade: idna<2.9,>=2.5 in /home/ajeet/anaconda3/lib/python3.7/site-packages (from requests->plotly>=3.8.1->interpret) (2.8)\n",
      "Requirement already satisfied, skipping upgrade: urllib3<1.25,>=1.21.1 in /home/ajeet/anaconda3/lib/python3.7/site-packages (from requests->plotly>=3.8.1->interpret) (1.24.1)\n",
      "Requirement already satisfied, skipping upgrade: chardet<3.1.0,>=3.0.2 in /home/ajeet/anaconda3/lib/python3.7/site-packages (from requests->plotly>=3.8.1->interpret) (3.0.4)\n",
      "Requirement already satisfied, skipping upgrade: certifi>=2017.4.17 in /home/ajeet/anaconda3/lib/python3.7/site-packages (from requests->plotly>=3.8.1->interpret) (2018.11.29)\n",
      "Requirement already satisfied, skipping upgrade: toolz>=0.7.3; extra == \"array\" in /home/ajeet/anaconda3/lib/python3.7/site-packages (from dask[array]>=0.9.0->scikit-image>=0.12->lime>=0.1.1.33->interpret) (0.9.0)\n",
      "Building wheels for collected packages: dash-table-experiments, dash-html-components, skope-rules, dash-renderer, dash-core-components, dash, SALib, lime, dash-cytoscape, shap, psutil, flask-compress, dash-table, retrying\n"
     ]
    },
    {
     "name": "stdout",
     "output_type": "stream",
     "text": [
      "  Running setup.py bdist_wheel for dash-table-experiments ... \u001b[?25ldone\n",
      "\u001b[?25h  Stored in directory: /home/ajeet/.cache/pip/wheels/17/46/7c/936c2a123c17673d9f46ecc74e1692a118673009bc92c192ae\n",
      "  Running setup.py bdist_wheel for dash-html-components ... \u001b[?25ldone\n",
      "\u001b[?25h  Stored in directory: /home/ajeet/.cache/pip/wheels/72/e5/cd/a82fd0f01affb14d3f3f19a19407f32a1845825603a7f9664b\n",
      "  Running setup.py bdist_wheel for skope-rules ... \u001b[?25ldone\n",
      "\u001b[?25h  Stored in directory: /home/ajeet/.cache/pip/wheels/3e/8d/56/464f328ff3200c785626967ee39a6b2efc455469dab615f03e\n",
      "  Running setup.py bdist_wheel for dash-renderer ... \u001b[?25ldone\n",
      "\u001b[?25h  Stored in directory: /home/ajeet/.cache/pip/wheels/6f/33/33/6473598a2a280dcfe8507b020b66da25dafe063fff31bb28f6\n",
      "  Running setup.py bdist_wheel for dash-core-components ... \u001b[?25ldone\n",
      "\u001b[?25h  Stored in directory: /home/ajeet/.cache/pip/wheels/83/ac/bb/68cefc4f1e6ec359183f3d198cadbec07193b1e3087256a5a2\n",
      "  Running setup.py bdist_wheel for dash ... \u001b[?25ldone\n",
      "\u001b[?25h  Stored in directory: /home/ajeet/.cache/pip/wheels/fb/75/e5/278d80ca56f3c1d623565079cacf3db4e672948d34311e0c91\n",
      "  Running setup.py bdist_wheel for SALib ... \u001b[?25ldone\n",
      "\u001b[?25h  Stored in directory: /home/ajeet/.cache/pip/wheels/ee/bc/84/42c320d52f2859f40d1b758557170b794db7bf5713be678ad9\n",
      "  Running setup.py bdist_wheel for lime ... \u001b[?25ldone\n",
      "\u001b[?25h  Stored in directory: /home/ajeet/.cache/pip/wheels/2f/8e/c1/c1cddd9cf8fbae812904fa5c84ef571e782891288d309d04c8\n",
      "  Running setup.py bdist_wheel for dash-cytoscape ... \u001b[?25ldone\n",
      "\u001b[?25h  Stored in directory: /home/ajeet/.cache/pip/wheels/32/bd/34/4c0a61c252c4bcee42ab4943e66e7c2d1f7809de90d4caf070\n",
      "  Running setup.py bdist_wheel for shap ... \u001b[?25ldone\n",
      "\u001b[?25h  Stored in directory: /home/ajeet/.cache/pip/wheels/93/3f/4a/331cf71b5043416aeba0df795e7c204c7ad277673f1938d11b\n",
      "  Running setup.py bdist_wheel for psutil ... \u001b[?25ldone\n",
      "\u001b[?25h  Stored in directory: /home/ajeet/.cache/pip/wheels/17/08/ec/22b464874958c3fc91e1a75748fae2220eb704a8b1035f9a03\n",
      "  Running setup.py bdist_wheel for flask-compress ... \u001b[?25ldone\n",
      "\u001b[?25h  Stored in directory: /home/ajeet/.cache/pip/wheels/96/32/88/a1f6d9dd3c29570ab3a8acc0d556b3b20abcf3c623c868ce0a\n",
      "  Running setup.py bdist_wheel for dash-table ... \u001b[?25ldone\n",
      "\u001b[?25h  Stored in directory: /home/ajeet/.cache/pip/wheels/b9/7e/8a/1249b5961f59668eba0471800e618c47b4219f77e2887536bd\n",
      "  Running setup.py bdist_wheel for retrying ... \u001b[?25ldone\n",
      "\u001b[?25h  Stored in directory: /home/ajeet/.cache/pip/wheels/d7/a9/33/acc7b709e2a35caa7d4cae442f6fe6fbf2c43f80823d46460c\n",
      "Successfully built dash-table-experiments dash-html-components skope-rules dash-renderer dash-core-components dash SALib lime dash-cytoscape shap psutil flask-compress dash-table retrying\n",
      "\u001b[31mspyder 3.3.2 requires pyqt5<5.10; python_version >= \"3\", which is not installed.\u001b[0m\n",
      "Installing collected packages: dash-table-experiments, pytest-runner, dash-html-components, nbconvert, scipy, pandas, skope-rules, dash-renderer, dash-core-components, flask-compress, retrying, plotly, dash-table, dash, SALib, lime, ipython, dash-cytoscape, zipp, importlib-metadata, pluggy, pytest, gevent, joblib, shap, psutil, interpret\n",
      "  Found existing installation: nbconvert 5.4.0\n",
      "    Uninstalling nbconvert-5.4.0:\n",
      "      Successfully uninstalled nbconvert-5.4.0\n",
      "  Found existing installation: scipy 1.1.0\n",
      "    Uninstalling scipy-1.1.0:\n",
      "      Successfully uninstalled scipy-1.1.0\n",
      "  Found existing installation: pandas 0.23.4\n",
      "    Uninstalling pandas-0.23.4:\n",
      "      Successfully uninstalled pandas-0.23.4\n",
      "  Found existing installation: ipython 7.2.0\n",
      "    Uninstalling ipython-7.2.0:\n",
      "      Successfully uninstalled ipython-7.2.0\n",
      "  Found existing installation: importlib-metadata 0.6\n",
      "    Uninstalling importlib-metadata-0.6:\n",
      "      Successfully uninstalled importlib-metadata-0.6\n",
      "  Found existing installation: pluggy 0.8.0\n",
      "    Uninstalling pluggy-0.8.0:\n",
      "      Successfully uninstalled pluggy-0.8.0\n",
      "  Found existing installation: pytest 4.0.2\n",
      "    Uninstalling pytest-4.0.2:\n",
      "      Successfully uninstalled pytest-4.0.2\n",
      "  Found existing installation: gevent 1.3.7\n",
      "    Uninstalling gevent-1.3.7:\n",
      "      Successfully uninstalled gevent-1.3.7\n",
      "  Found existing installation: psutil 5.4.8\n",
      "    Uninstalling psutil-5.4.8:\n",
      "      Successfully uninstalled psutil-5.4.8\n",
      "Successfully installed SALib-1.3.6 dash-0.39.0 dash-core-components-0.44.0 dash-cytoscape-0.1.1 dash-html-components-0.14.0 dash-renderer-0.20.0 dash-table-3.6.0 dash-table-experiments-0.6.0 flask-compress-1.4.0 gevent-1.4.0 importlib-metadata-0.17 interpret-0.1.7 ipython-7.5.0 joblib-0.13.2 lime-0.1.1.34 nbconvert-5.5.0 pandas-0.24.2 plotly-3.10.0 pluggy-0.12.0 psutil-5.6.2 pytest-4.6.2 pytest-runner-5.1 retrying-1.3.3 scipy-1.3.0 shap-0.29.1 skope-rules-1.0.0 zipp-0.5.1\n"
     ]
    }
   ],
   "source": [
    "!pip install -U interpret"
   ]
  },
  {
   "cell_type": "code",
   "execution_count": 4,
   "metadata": {},
   "outputs": [],
   "source": [
    "from interpret.glassbox import ExplainableBoostingClassifier"
   ]
  },
  {
   "cell_type": "code",
   "execution_count": 1,
   "metadata": {},
   "outputs": [],
   "source": [
    "import pandas as pd\n",
    "from sklearn.model_selection import train_test_split\n",
    "\n",
    "df = pd.read_csv(\n",
    "    \"https://archive.ics.uci.edu/ml/machine-learning-databases/adult/adult.data\",\n",
    "    header=None)\n",
    "df.columns = [\n",
    "    \"Age\", \"WorkClass\", \"fnlwgt\", \"Education\", \"EducationNum\",\n",
    "    \"MaritalStatus\", \"Occupation\", \"Relationship\", \"Race\", \"Gender\",\n",
    "    \"CapitalGain\", \"CapitalLoss\", \"HoursPerWeek\", \"NativeCountry\", \"Income\"\n",
    "]\n",
    "train_cols = df.columns[0:-1]\n",
    "label = df.columns[-1]\n",
    "X = df[train_cols]\n",
    "y = df[label].apply(lambda x: 0 if x == \" <=50K\" else 1) #Turning response into 0 and 1\n",
    "\n",
    "seed = 1\n",
    "X_train, X_test, y_train, y_test = train_test_split(X, y, test_size=0.20, random_state=seed)"
   ]
  },
  {
   "cell_type": "code",
   "execution_count": 4,
   "metadata": {},
   "outputs": [
    {
     "data": {
      "text/html": [
       "<div>\n",
       "<style scoped>\n",
       "    .dataframe tbody tr th:only-of-type {\n",
       "        vertical-align: middle;\n",
       "    }\n",
       "\n",
       "    .dataframe tbody tr th {\n",
       "        vertical-align: top;\n",
       "    }\n",
       "\n",
       "    .dataframe thead th {\n",
       "        text-align: right;\n",
       "    }\n",
       "</style>\n",
       "<table border=\"1\" class=\"dataframe\">\n",
       "  <thead>\n",
       "    <tr style=\"text-align: right;\">\n",
       "      <th></th>\n",
       "      <th>Age</th>\n",
       "      <th>WorkClass</th>\n",
       "      <th>fnlwgt</th>\n",
       "      <th>Education</th>\n",
       "      <th>EducationNum</th>\n",
       "      <th>MaritalStatus</th>\n",
       "      <th>Occupation</th>\n",
       "      <th>Relationship</th>\n",
       "      <th>Race</th>\n",
       "      <th>Gender</th>\n",
       "      <th>CapitalGain</th>\n",
       "      <th>CapitalLoss</th>\n",
       "      <th>HoursPerWeek</th>\n",
       "      <th>NativeCountry</th>\n",
       "    </tr>\n",
       "  </thead>\n",
       "  <tbody>\n",
       "    <tr>\n",
       "      <th>16465</th>\n",
       "      <td>39</td>\n",
       "      <td>Self-emp-not-inc</td>\n",
       "      <td>188571</td>\n",
       "      <td>11th</td>\n",
       "      <td>7</td>\n",
       "      <td>Married-civ-spouse</td>\n",
       "      <td>Transport-moving</td>\n",
       "      <td>Husband</td>\n",
       "      <td>White</td>\n",
       "      <td>Male</td>\n",
       "      <td>0</td>\n",
       "      <td>0</td>\n",
       "      <td>40</td>\n",
       "      <td>United-States</td>\n",
       "    </tr>\n",
       "    <tr>\n",
       "      <th>5625</th>\n",
       "      <td>54</td>\n",
       "      <td>Self-emp-not-inc</td>\n",
       "      <td>105010</td>\n",
       "      <td>Bachelors</td>\n",
       "      <td>13</td>\n",
       "      <td>Married-civ-spouse</td>\n",
       "      <td>Exec-managerial</td>\n",
       "      <td>Husband</td>\n",
       "      <td>White</td>\n",
       "      <td>Male</td>\n",
       "      <td>0</td>\n",
       "      <td>0</td>\n",
       "      <td>40</td>\n",
       "      <td>United-States</td>\n",
       "    </tr>\n",
       "    <tr>\n",
       "      <th>30273</th>\n",
       "      <td>32</td>\n",
       "      <td>Private</td>\n",
       "      <td>156464</td>\n",
       "      <td>HS-grad</td>\n",
       "      <td>9</td>\n",
       "      <td>Married-civ-spouse</td>\n",
       "      <td>Sales</td>\n",
       "      <td>Husband</td>\n",
       "      <td>White</td>\n",
       "      <td>Male</td>\n",
       "      <td>0</td>\n",
       "      <td>1902</td>\n",
       "      <td>50</td>\n",
       "      <td>United-States</td>\n",
       "    </tr>\n",
       "    <tr>\n",
       "      <th>3136</th>\n",
       "      <td>45</td>\n",
       "      <td>Self-emp-not-inc</td>\n",
       "      <td>32172</td>\n",
       "      <td>Some-college</td>\n",
       "      <td>10</td>\n",
       "      <td>Never-married</td>\n",
       "      <td>Farming-fishing</td>\n",
       "      <td>Not-in-family</td>\n",
       "      <td>White</td>\n",
       "      <td>Male</td>\n",
       "      <td>0</td>\n",
       "      <td>0</td>\n",
       "      <td>50</td>\n",
       "      <td>United-States</td>\n",
       "    </tr>\n",
       "    <tr>\n",
       "      <th>4521</th>\n",
       "      <td>60</td>\n",
       "      <td>Private</td>\n",
       "      <td>146674</td>\n",
       "      <td>10th</td>\n",
       "      <td>6</td>\n",
       "      <td>Married-civ-spouse</td>\n",
       "      <td>Handlers-cleaners</td>\n",
       "      <td>Husband</td>\n",
       "      <td>Black</td>\n",
       "      <td>Male</td>\n",
       "      <td>0</td>\n",
       "      <td>0</td>\n",
       "      <td>40</td>\n",
       "      <td>United-States</td>\n",
       "    </tr>\n",
       "  </tbody>\n",
       "</table>\n",
       "</div>"
      ],
      "text/plain": [
       "       Age          WorkClass  fnlwgt      Education  EducationNum  \\\n",
       "16465   39   Self-emp-not-inc  188571           11th             7   \n",
       "5625    54   Self-emp-not-inc  105010      Bachelors            13   \n",
       "30273   32            Private  156464        HS-grad             9   \n",
       "3136    45   Self-emp-not-inc   32172   Some-college            10   \n",
       "4521    60            Private  146674           10th             6   \n",
       "\n",
       "             MaritalStatus          Occupation    Relationship    Race Gender  \\\n",
       "16465   Married-civ-spouse    Transport-moving         Husband   White   Male   \n",
       "5625    Married-civ-spouse     Exec-managerial         Husband   White   Male   \n",
       "30273   Married-civ-spouse               Sales         Husband   White   Male   \n",
       "3136         Never-married     Farming-fishing   Not-in-family   White   Male   \n",
       "4521    Married-civ-spouse   Handlers-cleaners         Husband   Black   Male   \n",
       "\n",
       "       CapitalGain  CapitalLoss  HoursPerWeek   NativeCountry  \n",
       "16465            0            0            40   United-States  \n",
       "5625             0            0            40   United-States  \n",
       "30273            0         1902            50   United-States  \n",
       "3136             0            0            50   United-States  \n",
       "4521             0            0            40   United-States  "
      ]
     },
     "execution_count": 4,
     "metadata": {},
     "output_type": "execute_result"
    }
   ],
   "source": [
    "X_train.head()"
   ]
  },
  {
   "cell_type": "markdown",
   "metadata": {},
   "source": [
    "<h1>Exploring the data</h1>"
   ]
  },
  {
   "cell_type": "code",
   "execution_count": 2,
   "metadata": {
    "scrolled": false
   },
   "outputs": [
    {
     "data": {
      "text/html": [
       "<!-- http://127.0.0.1:7781/140250144474448/ -->\n",
       "<iframe src=\"http://127.0.0.1:7781/140250144474448/\" width=100% height=800 frameBorder=\"0\"></iframe>"
      ]
     },
     "metadata": {},
     "output_type": "display_data"
    }
   ],
   "source": [
    "from interpret import show\n",
    "from interpret.data import ClassHistogram\n",
    "\n",
    "hist = ClassHistogram().explain_data(X_train, y_train, name = 'Train Data')\n",
    "show(hist)"
   ]
  },
  {
   "cell_type": "markdown",
   "metadata": {},
   "source": [
    "<h1>Training the EBM</h1>"
   ]
  },
  {
   "cell_type": "code",
   "execution_count": 7,
   "metadata": {},
   "outputs": [
    {
     "data": {
      "text/plain": [
       "ExplainableBoostingClassifier(data_n_episodes=2000,\n",
       "               early_stopping_run_length=50,\n",
       "               early_stopping_tolerance=1e-05,\n",
       "               feature_names=['Age', 'WorkClass', 'fnlwgt', 'Education', 'EducationNum', 'MaritalStatus', 'Occupation', 'Relationship', 'Race', 'Gender', 'CapitalGain', 'CapitalLoss', 'HoursPerWeek', 'NativeCountry'],\n",
       "               feature_step_n_inner_bags=0,\n",
       "               feature_types=['continuous', 'categorical', 'continuous', 'categorical', 'continuous', 'categorical', 'categorical', 'categorical', 'categorical', 'categorical', 'continuous', 'continuous', 'continuous', 'categorical'],\n",
       "               holdout_size=0.15, holdout_split=0.15, interactions=0,\n",
       "               learning_rate=0.01, max_tree_splits=2,\n",
       "               min_cases_for_splits=2, n_estimators=16, n_jobs=-2,\n",
       "               random_state=1, schema=None, scoring=None,\n",
       "               training_step_episodes=1)"
      ]
     },
     "execution_count": 7,
     "metadata": {},
     "output_type": "execute_result"
    }
   ],
   "source": [
    "from interpret.glassbox import ExplainableBoostingClassifier, LogisticRegression, ClassificationTree, DecisionListClassifier\n",
    "\n",
    "ebm = ExplainableBoostingClassifier(random_state=seed)\n",
    "ebm.fit(X_train, y_train)   #Works on dataframes and numpy arrays"
   ]
  },
  {
   "cell_type": "markdown",
   "metadata": {},
   "source": [
    "<h1>Global Explanations: What the model learned overall</h1>"
   ]
  },
  {
   "cell_type": "code",
   "execution_count": 8,
   "metadata": {},
   "outputs": [
    {
     "data": {
      "text/html": [
       "<!-- http://127.0.0.1:7781/140248698852632/ -->\n",
       "<iframe src=\"http://127.0.0.1:7781/140248698852632/\" width=100% height=800 frameBorder=\"0\"></iframe>"
      ]
     },
     "metadata": {},
     "output_type": "display_data"
    }
   ],
   "source": [
    "ebm_global = ebm.explain_global(name='EBM')\n",
    "show(ebm_global)"
   ]
  },
  {
   "cell_type": "markdown",
   "metadata": {},
   "source": [
    "<h1>Local Explanations: How an individual prediction was made</h1>"
   ]
  },
  {
   "cell_type": "code",
   "execution_count": 14,
   "metadata": {},
   "outputs": [
    {
     "data": {
      "text/html": [
       "<!-- http://127.0.0.1:7781/140248802530136/ -->\n",
       "<iframe src=\"http://127.0.0.1:7781/140248802530136/\" width=100% height=800 frameBorder=\"0\"></iframe>"
      ]
     },
     "metadata": {},
     "output_type": "display_data"
    }
   ],
   "source": [
    "ebm_local = ebm.explain_local(X_test[:20], y_test[:20], name='EBM')\n",
    "show(ebm_local)"
   ]
  },
  {
   "cell_type": "markdown",
   "metadata": {},
   "source": [
    "<h1>Evaluate EBM performance</h1>"
   ]
  },
  {
   "cell_type": "code",
   "execution_count": 15,
   "metadata": {},
   "outputs": [
    {
     "data": {
      "text/html": [
       "<!-- http://127.0.0.1:7781/140248682123448/ -->\n",
       "<iframe src=\"http://127.0.0.1:7781/140248682123448/\" width=100% height=800 frameBorder=\"0\"></iframe>"
      ]
     },
     "metadata": {},
     "output_type": "display_data"
    }
   ],
   "source": [
    "from interpret.perf import ROC\n",
    "\n",
    "ebm_perf = ROC(ebm.predict_proba).explain_perf(X_test, y_test, name='EBM')\n",
    "show(ebm_perf)"
   ]
  },
  {
   "cell_type": "markdown",
   "metadata": {},
   "source": [
    "<h1>Let's test out a few other Explainable Models</h1>"
   ]
  },
  {
   "cell_type": "code",
   "execution_count": 16,
   "metadata": {},
   "outputs": [
    {
     "name": "stderr",
     "output_type": "stream",
     "text": [
      "/home/ajeet/anaconda3/lib/python3.7/site-packages/sklearn/linear_model/logistic.py:433: FutureWarning:\n",
      "\n",
      "Default solver will be changed to 'lbfgs' in 0.22. Specify a solver to silence this warning.\n",
      "\n"
     ]
    },
    {
     "data": {
      "text/plain": [
       "<interpret.glassbox.decisiontree.ClassificationTree at 0x7f8e31bce208>"
      ]
     },
     "execution_count": 16,
     "metadata": {},
     "output_type": "execute_result"
    }
   ],
   "source": [
    "from interpret.glassbox import LogisticRegression, ClassificationTree\n",
    "\n",
    "# We have to transform categorical variables to use Logistic Regression and Decision Tree\n",
    "X_enc = pd.get_dummies(X, prefix_sep='.')\n",
    "feature_names = list(X_enc.columns)\n",
    "X_train_enc, X_test_enc, y_train, y_test = train_test_split(X_enc, y, test_size=0.20, random_state=seed)\n",
    "\n",
    "lr = LogisticRegression(random_state=seed, feature_names=feature_names, penalty='l1')\n",
    "lr.fit(X_train_enc, y_train)\n",
    "\n",
    "tree = ClassificationTree()\n",
    "tree.fit(X_train_enc, y_train)"
   ]
  },
  {
   "cell_type": "markdown",
   "metadata": {},
   "source": [
    "<h1>Compare performance using the Dashboard</h1>"
   ]
  },
  {
   "cell_type": "code",
   "execution_count": 18,
   "metadata": {
    "scrolled": false
   },
   "outputs": [
    {
     "data": {
      "text/html": [
       "<!-- http://127.0.0.1:7781/140248696455464/ -->\n",
       "<iframe src=\"http://127.0.0.1:7781/140248696455464/\" width=100% height=800 frameBorder=\"0\"></iframe>"
      ]
     },
     "metadata": {},
     "output_type": "display_data"
    },
    {
     "data": {
      "text/html": [
       "<!-- http://127.0.0.1:7781/140248696455800/ -->\n",
       "<iframe src=\"http://127.0.0.1:7781/140248696455800/\" width=100% height=800 frameBorder=\"0\"></iframe>"
      ]
     },
     "metadata": {},
     "output_type": "display_data"
    },
    {
     "data": {
      "text/html": [
       "<!-- http://127.0.0.1:7781/140248682123448/ -->\n",
       "<iframe src=\"http://127.0.0.1:7781/140248682123448/\" width=100% height=800 frameBorder=\"0\"></iframe>"
      ]
     },
     "metadata": {},
     "output_type": "display_data"
    }
   ],
   "source": [
    "lr_perf = ROC(lr.predict_proba).explain_perf(X_test_enc, y_test, name='Logistic Regression')\n",
    "tree_perf = ROC(tree.predict_proba).explain_perf(X_test_enc, y_test, name='Classification Tree')\n",
    "\n",
    "show(lr_perf)\n",
    "show(tree_perf)\n",
    "show(ebm_perf)"
   ]
  },
  {
   "cell_type": "markdown",
   "metadata": {},
   "source": [
    "<h1>Glassbox: All of our models have global and local explanations</h1>"
   ]
  },
  {
   "cell_type": "code",
   "execution_count": 22,
   "metadata": {
    "scrolled": false
   },
   "outputs": [
    {
     "data": {
      "text/html": [
       "<!-- http://127.0.0.1:7781/140248699431736/ -->\n",
       "<iframe src=\"http://127.0.0.1:7781/140248699431736/\" width=100% height=800 frameBorder=\"0\"></iframe>"
      ]
     },
     "metadata": {},
     "output_type": "display_data"
    },
    {
     "data": {
      "text/html": [
       "<!-- http://127.0.0.1:7781/140248699430784/ -->\n",
       "<iframe src=\"http://127.0.0.1:7781/140248699430784/\" width=100% height=800 frameBorder=\"0\"></iframe>"
      ]
     },
     "metadata": {},
     "output_type": "display_data"
    }
   ],
   "source": [
    "lr_global = lr.explain_global(name='LR')\n",
    "tree_global = tree.explain_global(name='Tree')\n",
    "\n",
    "show(lr_global)\n",
    "show(tree_global)\n",
    "# show(ebm_global)"
   ]
  },
  {
   "cell_type": "markdown",
   "metadata": {},
   "source": [
    "<h1>Dashboard: look at everything at once</h1>"
   ]
  },
  {
   "cell_type": "code",
   "execution_count": 23,
   "metadata": {},
   "outputs": [
    {
     "data": {
      "text/html": [
       "<!-- http://127.0.0.1:7781/140248669018312/ -->\n",
       "<a href=\"http://127.0.0.1:7781/140248669018312/\" target=\"_new\">Open in new window</a><iframe src=\"http://127.0.0.1:7781/140248669018312/\" width=100% height=800 frameBorder=\"0\"></iframe>"
      ]
     },
     "metadata": {},
     "output_type": "display_data"
    }
   ],
   "source": [
    "# Do everything in one shot with the InterpretML Dashboard by passing a list into show\n",
    "\n",
    "show([hist, lr_global, lr_perf, tree_global, tree_perf, ebm_global, ebm_perf], share_tables=True)"
   ]
  }
 ],
 "metadata": {
  "kernelspec": {
   "display_name": "Python 3",
   "language": "python",
   "name": "python3"
  },
  "language_info": {
   "codemirror_mode": {
    "name": "ipython",
    "version": 3
   },
   "file_extension": ".py",
   "mimetype": "text/x-python",
   "name": "python",
   "nbconvert_exporter": "python",
   "pygments_lexer": "ipython3",
   "version": "3.7.1"
  }
 },
 "nbformat": 4,
 "nbformat_minor": 2
}
