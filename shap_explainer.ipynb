{
  "nbformat": 4,
  "nbformat_minor": 0,
  "metadata": {
    "colab": {
      "name": "shap_explainer.ipynb",
      "provenance": [],
      "collapsed_sections": [],
      "authorship_tag": "ABX9TyNmD87laQVcy/XpswwoITQD",
      "include_colab_link": true
    },
    "kernelspec": {
      "name": "python3",
      "display_name": "Python 3"
    }
  },
  "cells": [
    {
      "cell_type": "markdown",
      "metadata": {
        "id": "view-in-github",
        "colab_type": "text"
      },
      "source": [
        "<a href=\"https://colab.research.google.com/github/AjeetSingh02/ExplainableAI/blob/master/shap_explainer.ipynb\" target=\"_parent\"><img src=\"https://colab.research.google.com/assets/colab-badge.svg\" alt=\"Open In Colab\"/></a>"
      ]
    },
    {
      "cell_type": "code",
      "metadata": {
        "id": "ft4WrPXC0ywY",
        "colab_type": "code",
        "colab": {}
      },
      "source": [
        "%%capture\n",
        "! pip install shap"
      ],
      "execution_count": 0,
      "outputs": []
    },
    {
      "cell_type": "code",
      "metadata": {
        "id": "jFFnLnHG1G5Q",
        "colab_type": "code",
        "colab": {}
      },
      "source": [
        "import shap\n",
        "import sklearn\n",
        "import xgboost\n",
        "import pandas as pd\n",
        "import numpy as np\n",
        "from sklearn.model_selection import train_test_split"
      ],
      "execution_count": 0,
      "outputs": []
    },
    {
      "cell_type": "code",
      "metadata": {
        "id": "IhpEv_yY1Gy3",
        "colab_type": "code",
        "colab": {}
      },
      "source": [
        "# Functions to generate shap values for a model and data\n",
        "def tree_explainer(model, X_test):\n",
        "    explainer = shap.TreeExplainer(model)\n",
        "    shap_values = explainer.shap_values(X_test)\n",
        "\n",
        "    return explainer, shap_values\n",
        "\n",
        "\n",
        "def kernel_explainer(model, X_test, link=\"identity\", nsamples = \"auto\"):\n",
        "    '''\n",
        "        nsamples:   auto or int\n",
        "                    Number of times to re-evaluate the model when explaining each prediction.\n",
        "                    More sample lead to lower variance estimates of the SHAP values.\n",
        "                    the \"auto\" setting uses\n",
        "                    n_samples = 2 * X.shape[1] + 2048\n",
        "\n",
        "        link:       identity or logit\n",
        "    '''\n",
        "\n",
        "    explainer = shap.KernelExplainer(model.predict_proba, X_test, link)\n",
        "    shap_values = explainer.shap_values(X_test, nsamples=nsamples)\n",
        "\n",
        "    return explainer, shap_values\n",
        "\n",
        "\n",
        "def generate_shap_values(model, model_type, X_test, link=\"identity\", nsamples = \"auto\"):\n",
        "    if model_type == \"tree\":\n",
        "        return tree_explainer(model, X_test)\n",
        "    elif model_type == \"kernel\":\n",
        "        return kernel_explainer(model, X_test, link, nsamples)\n",
        "    else:\n",
        "        print(\"Model type can be either tree or kernel\")\n",
        "        return None"
      ],
      "execution_count": 0,
      "outputs": []
    },
    {
      "cell_type": "code",
      "metadata": {
        "id": "Quy3gKNl1GjH",
        "colab_type": "code",
        "colab": {}
      },
      "source": [
        "# Functions for text explainations\n",
        "\n",
        "# Printing function\n",
        "def printer(row, class_num, columns, globl):\n",
        "\n",
        "    max_index = np.argmax(row)\n",
        "    min_index = np.argmin(row)\n",
        "\n",
        "    most_string = f\"{columns[max_index]} was the most influential in swaying the model output\"\n",
        "    min_string = f\"{columns[min_index]} was the least influential in swaying the model output\"\n",
        "    \n",
        "    if globl:\n",
        "        if class_num != None:\n",
        "            print(f\"{most_string} for class {class_num} (mean SHAP score = {round(row[max_index],2)})\")\n",
        "            print(f\"{min_string} for class {class_num} (mean SHAP score = {round(row[min_index],2)})\")\n",
        "        else:\n",
        "            print(f\"{most_string} (mean SHAP score = {round(row[max_index],2)})\")\n",
        "            print(f\"{min_string} (mean SHAP score = {round(row[min_index],2)})\")\n",
        "    else:\n",
        "        print(most_string)\n",
        "        print(min_string)\n",
        "\n",
        "\n",
        "# Calculating which features were most and least effective\n",
        "def shap_describe(shap_v, columns, globl, row = False, class_num = None):\n",
        "    # For global\n",
        "    if globl == True:\n",
        "        mean_list = []\n",
        "\n",
        "        shap_df = pd.DataFrame(shap_v, columns = columns)\n",
        "\n",
        "        for col in columns:\n",
        "            mean_list.append(np.mean(np.abs(shap_df[col])))\n",
        "\n",
        "        printer(mean_list, class_num, columns, globl)\n",
        "\n",
        "    # For local\n",
        "    elif globl == False:\n",
        "        if not isinstance(row, bool):\n",
        "            printer(np.abs(row), class_num, columns, globl)\n",
        "        else:\n",
        "            print(\"Provide row\")\n",
        "            return\n",
        "    else:\n",
        "        print(\"globl can be either True or False\")\n",
        "        return\n",
        "\n",
        "\n",
        "# Explaination for whole dataset\n",
        "# If multiple classes are there then explaiantion will be for each class\n",
        "def shap_global(shap_values, columns):\n",
        "    if isinstance(shap_values, np.ndarray):\n",
        "        shap_describe(shap_values, columns, globl=True)\n",
        "    elif isinstance(shap_values, list):\n",
        "        for i in range(len(shap_values)):\n",
        "            shap_describe(shap_values[i], columns, globl=True, class_num=i)\n",
        "\n",
        "\n",
        "# Explaination for one example\n",
        "# If multiple classes are there then explaiantion will be for each class\n",
        "def shap_local(shap_values, columns, indx = None):\n",
        "    if indx != None:\n",
        "        if isinstance(shap_values, np.ndarray):\n",
        "            # call shap_describe for one class\n",
        "            row = shap_values[indx]\n",
        "            shap_describe(shap_values, columns, globl = False, row = row)\n",
        "            \n",
        "        elif isinstance(shap_values, list):\n",
        "            # call shap_describe for every class\n",
        "            for i in range(len(shap_values)):\n",
        "                row = shap_values[i][indx]\n",
        "                shap_describe(shap_values[i], columns, globl = False, row = row, class_num = i)\n",
        "    else:\n",
        "        print(\"provide index\")\n",
        "        return"
      ],
      "execution_count": 0,
      "outputs": []
    },
    {
      "cell_type": "code",
      "metadata": {
        "id": "UT0Ox10ZrnmD",
        "colab_type": "code",
        "outputId": "1b209576-0be5-4ba5-feeb-a8b384def562",
        "colab": {
          "base_uri": "https://localhost:8080/",
          "height": 34
        }
      },
      "source": [
        "shap_df1.shape"
      ],
      "execution_count": 0,
      "outputs": [
        {
          "output_type": "execute_result",
          "data": {
            "text/plain": [
              "(506, 13)"
            ]
          },
          "metadata": {
            "tags": []
          },
          "execution_count": 36
        }
      ]
    },
    {
      "cell_type": "markdown",
      "metadata": {
        "id": "cIX8pfM47Uag",
        "colab_type": "text"
      },
      "source": [
        "Case 1: Price Prediction data to xgboost\n",
        "\n",
        "Case 2: Flower Classification data to xgboost\n",
        "\n",
        "Case 3: Flower Classification data to SVM\n",
        "\n",
        "Case 4: Price Prediction data to SVM"
      ]
    },
    {
      "cell_type": "code",
      "metadata": {
        "id": "tFtlfCeP7YxY",
        "colab_type": "code",
        "colab": {}
      },
      "source": [
        "# Price Prediction data\n",
        "X_sales, y_sales = shap.datasets.boston() \n",
        "# Flower Classification data \n",
        "X_class, X_test, Y_class, Y_test = train_test_split(*shap.datasets.iris(), test_size=0.2, random_state=0) "
      ],
      "execution_count": 0,
      "outputs": []
    },
    {
      "cell_type": "code",
      "metadata": {
        "id": "HjYu6cFQ2W-t",
        "colab_type": "code",
        "colab": {}
      },
      "source": [
        "%%capture\n",
        "\n",
        "# Case 1: Price Prediction data to xgboost\n",
        "model1 = xgboost.train({\"learning_rate\": 0.01}, xgboost.DMatrix(X_sales, label=y_sales), 100)\n",
        "explainer1, shap_values1 = generate_shap_values(model1, \"tree\", X_sales)\n",
        "\n",
        "# Case 2:  Flower Classification data to xgboost\n",
        "model2 = xgboost.train({\"learning_rate\": 0.01}, xgboost.DMatrix(X_class, label=Y_class), 100)\n",
        "explainer2, shap_values2 = generate_shap_values(model2, \"tree\", X_class)\n",
        "\n",
        "# Case 3: Flower Classification data to SVM\n",
        "svm3 = sklearn.svm.SVC(kernel='rbf', probability=True)\n",
        "svm3.fit(X_class, Y_class)\n",
        "explainer3, shap_values3 = generate_shap_values(svm3, \"kernel\", X_class, link=\"logit\", nsamples=100)\n",
        "\n",
        "# Case 4: Price Prediction data to SVM\n",
        "y_sales_int = list(map(int, y_sales))\n",
        "svm4 = sklearn.svm.SVC(kernel='rbf', probability=True)\n",
        "svm4.fit(X_sales, y_sales_int)\n",
        "explainer4, shap_values4 = generate_shap_values(svm4, \"kernel\", X_sales.iloc[1:100,:], link=\"logit\", nsamples=100)"
      ],
      "execution_count": 0,
      "outputs": []
    },
    {
      "cell_type": "code",
      "metadata": {
        "id": "gQxxTIvL2W2a",
        "colab_type": "code",
        "colab": {}
      },
      "source": [
        "# 1, 4 - X_sales, y_sales trained on XGBOOST\n",
        "# 2, 3 - X_class, X_test, Y_class, Y_test trained on SVD"
      ],
      "execution_count": 0,
      "outputs": []
    },
    {
      "cell_type": "code",
      "metadata": {
        "id": "eAspOCda4dwr",
        "colab_type": "code",
        "outputId": "31ac3502-c214-44ff-d2cd-29388c042c8d",
        "colab": {
          "base_uri": "https://localhost:8080/",
          "height": 34
        }
      },
      "source": [
        "np.array(shap_values4).shape"
      ],
      "execution_count": 0,
      "outputs": [
        {
          "output_type": "execute_result",
          "data": {
            "text/plain": [
              "(43, 99, 13)"
            ]
          },
          "metadata": {
            "tags": []
          },
          "execution_count": 80
        }
      ]
    },
    {
      "cell_type": "code",
      "metadata": {
        "id": "i5Keul9yGvhX",
        "colab_type": "code",
        "colab": {}
      },
      "source": [
        "indx = 0\n",
        "shap_values = shap_values2\n",
        "X = X_class\n",
        "explainer = explainer2"
      ],
      "execution_count": 0,
      "outputs": []
    },
    {
      "cell_type": "code",
      "metadata": {
        "id": "7QEFw8hI1Gb7",
        "colab_type": "code",
        "outputId": "c72904da-20c8-4cb4-d7a3-c773fc3b0f86",
        "colab": {
          "base_uri": "https://localhost:8080/",
          "height": 51
        }
      },
      "source": [
        "# shap_global(shap_values3, X_class.columns)\n",
        "shap_local(shap_values, X.columns, indx)"
      ],
      "execution_count": 0,
      "outputs": [
        {
          "output_type": "stream",
          "text": [
            "petal length (cm) was the most influential in swaying the model output\n",
            "sepal length (cm) was the least influential in swaying the model output\n"
          ],
          "name": "stdout"
        }
      ]
    },
    {
      "cell_type": "code",
      "metadata": {
        "id": "hrKR40wYpLyO",
        "colab_type": "code",
        "colab": {}
      },
      "source": [
        "# shap.summary_plot(shap_values3, X_class, plot_type=\"bar\")\n",
        "shap.initjs()\n",
        "c = 0\n",
        "shap.force_plot(explainer.expected_value, shap_values[indx,:], X.iloc[indx,:], link=\"logit\")"
      ],
      "execution_count": 0,
      "outputs": []
    },
    {
      "cell_type": "code",
      "metadata": {
        "id": "YGqFFDkzP4Wv",
        "colab_type": "code",
        "colab": {}
      },
      "source": [
        "X = X_sales \n",
        "Y = list(map(int, y_sales))"
      ],
      "execution_count": 0,
      "outputs": []
    },
    {
      "cell_type": "code",
      "metadata": {
        "id": "YVH2YkUnSsBG",
        "colab_type": "code",
        "outputId": "cbf7505d-6c38-4e73-bcad-0901a2221154",
        "colab": {
          "base_uri": "https://localhost:8080/",
          "height": 419
        }
      },
      "source": [
        "X"
      ],
      "execution_count": 0,
      "outputs": [
        {
          "output_type": "execute_result",
          "data": {
            "text/html": [
              "<div>\n",
              "<style scoped>\n",
              "    .dataframe tbody tr th:only-of-type {\n",
              "        vertical-align: middle;\n",
              "    }\n",
              "\n",
              "    .dataframe tbody tr th {\n",
              "        vertical-align: top;\n",
              "    }\n",
              "\n",
              "    .dataframe thead th {\n",
              "        text-align: right;\n",
              "    }\n",
              "</style>\n",
              "<table border=\"1\" class=\"dataframe\">\n",
              "  <thead>\n",
              "    <tr style=\"text-align: right;\">\n",
              "      <th></th>\n",
              "      <th>CRIM</th>\n",
              "      <th>ZN</th>\n",
              "      <th>INDUS</th>\n",
              "      <th>CHAS</th>\n",
              "      <th>NOX</th>\n",
              "      <th>RM</th>\n",
              "      <th>AGE</th>\n",
              "      <th>DIS</th>\n",
              "      <th>RAD</th>\n",
              "      <th>TAX</th>\n",
              "      <th>PTRATIO</th>\n",
              "      <th>B</th>\n",
              "      <th>LSTAT</th>\n",
              "    </tr>\n",
              "  </thead>\n",
              "  <tbody>\n",
              "    <tr>\n",
              "      <th>0</th>\n",
              "      <td>0.00632</td>\n",
              "      <td>18.0</td>\n",
              "      <td>2.31</td>\n",
              "      <td>0.0</td>\n",
              "      <td>0.538</td>\n",
              "      <td>6.575</td>\n",
              "      <td>65.2</td>\n",
              "      <td>4.0900</td>\n",
              "      <td>1.0</td>\n",
              "      <td>296.0</td>\n",
              "      <td>15.3</td>\n",
              "      <td>396.90</td>\n",
              "      <td>4.98</td>\n",
              "    </tr>\n",
              "    <tr>\n",
              "      <th>1</th>\n",
              "      <td>0.02731</td>\n",
              "      <td>0.0</td>\n",
              "      <td>7.07</td>\n",
              "      <td>0.0</td>\n",
              "      <td>0.469</td>\n",
              "      <td>6.421</td>\n",
              "      <td>78.9</td>\n",
              "      <td>4.9671</td>\n",
              "      <td>2.0</td>\n",
              "      <td>242.0</td>\n",
              "      <td>17.8</td>\n",
              "      <td>396.90</td>\n",
              "      <td>9.14</td>\n",
              "    </tr>\n",
              "    <tr>\n",
              "      <th>2</th>\n",
              "      <td>0.02729</td>\n",
              "      <td>0.0</td>\n",
              "      <td>7.07</td>\n",
              "      <td>0.0</td>\n",
              "      <td>0.469</td>\n",
              "      <td>7.185</td>\n",
              "      <td>61.1</td>\n",
              "      <td>4.9671</td>\n",
              "      <td>2.0</td>\n",
              "      <td>242.0</td>\n",
              "      <td>17.8</td>\n",
              "      <td>392.83</td>\n",
              "      <td>4.03</td>\n",
              "    </tr>\n",
              "    <tr>\n",
              "      <th>3</th>\n",
              "      <td>0.03237</td>\n",
              "      <td>0.0</td>\n",
              "      <td>2.18</td>\n",
              "      <td>0.0</td>\n",
              "      <td>0.458</td>\n",
              "      <td>6.998</td>\n",
              "      <td>45.8</td>\n",
              "      <td>6.0622</td>\n",
              "      <td>3.0</td>\n",
              "      <td>222.0</td>\n",
              "      <td>18.7</td>\n",
              "      <td>394.63</td>\n",
              "      <td>2.94</td>\n",
              "    </tr>\n",
              "    <tr>\n",
              "      <th>4</th>\n",
              "      <td>0.06905</td>\n",
              "      <td>0.0</td>\n",
              "      <td>2.18</td>\n",
              "      <td>0.0</td>\n",
              "      <td>0.458</td>\n",
              "      <td>7.147</td>\n",
              "      <td>54.2</td>\n",
              "      <td>6.0622</td>\n",
              "      <td>3.0</td>\n",
              "      <td>222.0</td>\n",
              "      <td>18.7</td>\n",
              "      <td>396.90</td>\n",
              "      <td>5.33</td>\n",
              "    </tr>\n",
              "    <tr>\n",
              "      <th>...</th>\n",
              "      <td>...</td>\n",
              "      <td>...</td>\n",
              "      <td>...</td>\n",
              "      <td>...</td>\n",
              "      <td>...</td>\n",
              "      <td>...</td>\n",
              "      <td>...</td>\n",
              "      <td>...</td>\n",
              "      <td>...</td>\n",
              "      <td>...</td>\n",
              "      <td>...</td>\n",
              "      <td>...</td>\n",
              "      <td>...</td>\n",
              "    </tr>\n",
              "    <tr>\n",
              "      <th>501</th>\n",
              "      <td>0.06263</td>\n",
              "      <td>0.0</td>\n",
              "      <td>11.93</td>\n",
              "      <td>0.0</td>\n",
              "      <td>0.573</td>\n",
              "      <td>6.593</td>\n",
              "      <td>69.1</td>\n",
              "      <td>2.4786</td>\n",
              "      <td>1.0</td>\n",
              "      <td>273.0</td>\n",
              "      <td>21.0</td>\n",
              "      <td>391.99</td>\n",
              "      <td>9.67</td>\n",
              "    </tr>\n",
              "    <tr>\n",
              "      <th>502</th>\n",
              "      <td>0.04527</td>\n",
              "      <td>0.0</td>\n",
              "      <td>11.93</td>\n",
              "      <td>0.0</td>\n",
              "      <td>0.573</td>\n",
              "      <td>6.120</td>\n",
              "      <td>76.7</td>\n",
              "      <td>2.2875</td>\n",
              "      <td>1.0</td>\n",
              "      <td>273.0</td>\n",
              "      <td>21.0</td>\n",
              "      <td>396.90</td>\n",
              "      <td>9.08</td>\n",
              "    </tr>\n",
              "    <tr>\n",
              "      <th>503</th>\n",
              "      <td>0.06076</td>\n",
              "      <td>0.0</td>\n",
              "      <td>11.93</td>\n",
              "      <td>0.0</td>\n",
              "      <td>0.573</td>\n",
              "      <td>6.976</td>\n",
              "      <td>91.0</td>\n",
              "      <td>2.1675</td>\n",
              "      <td>1.0</td>\n",
              "      <td>273.0</td>\n",
              "      <td>21.0</td>\n",
              "      <td>396.90</td>\n",
              "      <td>5.64</td>\n",
              "    </tr>\n",
              "    <tr>\n",
              "      <th>504</th>\n",
              "      <td>0.10959</td>\n",
              "      <td>0.0</td>\n",
              "      <td>11.93</td>\n",
              "      <td>0.0</td>\n",
              "      <td>0.573</td>\n",
              "      <td>6.794</td>\n",
              "      <td>89.3</td>\n",
              "      <td>2.3889</td>\n",
              "      <td>1.0</td>\n",
              "      <td>273.0</td>\n",
              "      <td>21.0</td>\n",
              "      <td>393.45</td>\n",
              "      <td>6.48</td>\n",
              "    </tr>\n",
              "    <tr>\n",
              "      <th>505</th>\n",
              "      <td>0.04741</td>\n",
              "      <td>0.0</td>\n",
              "      <td>11.93</td>\n",
              "      <td>0.0</td>\n",
              "      <td>0.573</td>\n",
              "      <td>6.030</td>\n",
              "      <td>80.8</td>\n",
              "      <td>2.5050</td>\n",
              "      <td>1.0</td>\n",
              "      <td>273.0</td>\n",
              "      <td>21.0</td>\n",
              "      <td>396.90</td>\n",
              "      <td>7.88</td>\n",
              "    </tr>\n",
              "  </tbody>\n",
              "</table>\n",
              "<p>506 rows × 13 columns</p>\n",
              "</div>"
            ],
            "text/plain": [
              "        CRIM    ZN  INDUS  CHAS    NOX  ...  RAD    TAX  PTRATIO       B  LSTAT\n",
              "0    0.00632  18.0   2.31   0.0  0.538  ...  1.0  296.0     15.3  396.90   4.98\n",
              "1    0.02731   0.0   7.07   0.0  0.469  ...  2.0  242.0     17.8  396.90   9.14\n",
              "2    0.02729   0.0   7.07   0.0  0.469  ...  2.0  242.0     17.8  392.83   4.03\n",
              "3    0.03237   0.0   2.18   0.0  0.458  ...  3.0  222.0     18.7  394.63   2.94\n",
              "4    0.06905   0.0   2.18   0.0  0.458  ...  3.0  222.0     18.7  396.90   5.33\n",
              "..       ...   ...    ...   ...    ...  ...  ...    ...      ...     ...    ...\n",
              "501  0.06263   0.0  11.93   0.0  0.573  ...  1.0  273.0     21.0  391.99   9.67\n",
              "502  0.04527   0.0  11.93   0.0  0.573  ...  1.0  273.0     21.0  396.90   9.08\n",
              "503  0.06076   0.0  11.93   0.0  0.573  ...  1.0  273.0     21.0  396.90   5.64\n",
              "504  0.10959   0.0  11.93   0.0  0.573  ...  1.0  273.0     21.0  393.45   6.48\n",
              "505  0.04741   0.0  11.93   0.0  0.573  ...  1.0  273.0     21.0  396.90   7.88\n",
              "\n",
              "[506 rows x 13 columns]"
            ]
          },
          "metadata": {
            "tags": []
          },
          "execution_count": 123
        }
      ]
    },
    {
      "cell_type": "code",
      "metadata": {
        "id": "DSWePxLG5lBC",
        "colab_type": "code",
        "colab": {}
      },
      "source": [
        "# Random Forest\n",
        "from sklearn.ensemble import RandomForestClassifier\n",
        "\n",
        "clf = RandomForestClassifier(max_depth=2, random_state=0)\n",
        "clf.fit(X, Y)\n",
        "explainer5, shap_values5 = generate_shap_values(clf, \"tree\", X.iloc[1:100,:], link=\"logit\", nsamples=100)"
      ],
      "execution_count": 0,
      "outputs": []
    },
    {
      "cell_type": "code",
      "metadata": {
        "id": "awoOUS3KTcGC",
        "colab_type": "code",
        "colab": {}
      },
      "source": [
        "# Logistic Regression\n",
        "from sklearn.linear_model import LogisticRegression\n",
        "\n",
        "lr = LogisticRegression(random_state=0)\n",
        "lr.fit(X_class, Y_class)"
      ],
      "execution_count": 0,
      "outputs": []
    },
    {
      "cell_type": "code",
      "metadata": {
        "id": "N6g6Ny1j5lO1",
        "colab_type": "code",
        "outputId": "ce59d971-b62c-4806-f421-4a53d1ef2793",
        "colab": {
          "base_uri": "https://localhost:8080/",
          "height": 1000
        }
      },
      "source": [
        "shap_values = shap_values5\n",
        "# shap_global(shap_values5, X.columns)\n",
        "shap_local(shap_values, X.columns, indx)"
      ],
      "execution_count": 0,
      "outputs": [
        {
          "output_type": "stream",
          "text": [
            "LSTAT was the most influential in swaying the model output\n",
            "ZN was the least influential in swaying the model output\n",
            "LSTAT was the most influential in swaying the model output\n",
            "ZN was the least influential in swaying the model output\n",
            "LSTAT was the most influential in swaying the model output\n",
            "CHAS was the least influential in swaying the model output\n",
            "LSTAT was the most influential in swaying the model output\n",
            "CHAS was the least influential in swaying the model output\n",
            "LSTAT was the most influential in swaying the model output\n",
            "ZN was the least influential in swaying the model output\n",
            "CRIM was the most influential in swaying the model output\n",
            "CHAS was the least influential in swaying the model output\n",
            "LSTAT was the most influential in swaying the model output\n",
            "CHAS was the least influential in swaying the model output\n",
            "LSTAT was the most influential in swaying the model output\n",
            "CHAS was the least influential in swaying the model output\n",
            "LSTAT was the most influential in swaying the model output\n",
            "CHAS was the least influential in swaying the model output\n",
            "LSTAT was the most influential in swaying the model output\n",
            "CHAS was the least influential in swaying the model output\n",
            "LSTAT was the most influential in swaying the model output\n",
            "CHAS was the least influential in swaying the model output\n",
            "LSTAT was the most influential in swaying the model output\n",
            "CHAS was the least influential in swaying the model output\n",
            "LSTAT was the most influential in swaying the model output\n",
            "CHAS was the least influential in swaying the model output\n",
            "CRIM was the most influential in swaying the model output\n",
            "CHAS was the least influential in swaying the model output\n",
            "DIS was the most influential in swaying the model output\n",
            "CHAS was the least influential in swaying the model output\n",
            "LSTAT was the most influential in swaying the model output\n",
            "CHAS was the least influential in swaying the model output\n",
            "LSTAT was the most influential in swaying the model output\n",
            "CHAS was the least influential in swaying the model output\n",
            "LSTAT was the most influential in swaying the model output\n",
            "CHAS was the least influential in swaying the model output\n",
            "LSTAT was the most influential in swaying the model output\n",
            "CHAS was the least influential in swaying the model output\n",
            "LSTAT was the most influential in swaying the model output\n",
            "CHAS was the least influential in swaying the model output\n",
            "LSTAT was the most influential in swaying the model output\n",
            "CHAS was the least influential in swaying the model output\n",
            "LSTAT was the most influential in swaying the model output\n",
            "CHAS was the least influential in swaying the model output\n",
            "LSTAT was the most influential in swaying the model output\n",
            "CHAS was the least influential in swaying the model output\n",
            "LSTAT was the most influential in swaying the model output\n",
            "CHAS was the least influential in swaying the model output\n",
            "RM was the most influential in swaying the model output\n",
            "CHAS was the least influential in swaying the model output\n",
            "RM was the most influential in swaying the model output\n",
            "CHAS was the least influential in swaying the model output\n",
            "RM was the most influential in swaying the model output\n",
            "CHAS was the least influential in swaying the model output\n",
            "RM was the most influential in swaying the model output\n",
            "CHAS was the least influential in swaying the model output\n",
            "RM was the most influential in swaying the model output\n",
            "CHAS was the least influential in swaying the model output\n",
            "RM was the most influential in swaying the model output\n",
            "CHAS was the least influential in swaying the model output\n",
            "RM was the most influential in swaying the model output\n",
            "CHAS was the least influential in swaying the model output\n",
            "RM was the most influential in swaying the model output\n",
            "CHAS was the least influential in swaying the model output\n",
            "RM was the most influential in swaying the model output\n",
            "CHAS was the least influential in swaying the model output\n",
            "RM was the most influential in swaying the model output\n",
            "CHAS was the least influential in swaying the model output\n",
            "RM was the most influential in swaying the model output\n",
            "CHAS was the least influential in swaying the model output\n",
            "RM was the most influential in swaying the model output\n",
            "CHAS was the least influential in swaying the model output\n",
            "RM was the most influential in swaying the model output\n",
            "CHAS was the least influential in swaying the model output\n",
            "RM was the most influential in swaying the model output\n",
            "CHAS was the least influential in swaying the model output\n",
            "RM was the most influential in swaying the model output\n",
            "CHAS was the least influential in swaying the model output\n",
            "RM was the most influential in swaying the model output\n",
            "CHAS was the least influential in swaying the model output\n",
            "RM was the most influential in swaying the model output\n",
            "CHAS was the least influential in swaying the model output\n",
            "RM was the most influential in swaying the model output\n",
            "CHAS was the least influential in swaying the model output\n",
            "RM was the most influential in swaying the model output\n",
            "CHAS was the least influential in swaying the model output\n"
          ],
          "name": "stdout"
        }
      ]
    }
  ]
}