{
  "nbformat": 4,
  "nbformat_minor": 0,
  "metadata": {
    "colab": {
      "name": "FairML.ipynb",
      "provenance": [],
      "collapsed_sections": [],
      "include_colab_link": true
    },
    "kernelspec": {
      "name": "python3",
      "display_name": "Python 3"
    }
  },
  "cells": [
    {
      "cell_type": "markdown",
      "metadata": {
        "id": "view-in-github",
        "colab_type": "text"
      },
      "source": [
        "<a href=\"https://colab.research.google.com/github/AjeetSingh02/ExplainableAI/blob/master/FairML.ipynb\" target=\"_parent\"><img src=\"https://colab.research.google.com/assets/colab-badge.svg\" alt=\"Open In Colab\"/></a>"
      ]
    },
    {
      "cell_type": "markdown",
      "metadata": {
        "id": "tytgdjHlDC0z",
        "colab_type": "text"
      },
      "source": [
        "<h1>FairML: Auditing Black-Box Predictive Models</h1>"
      ]
    },
    {
      "cell_type": "code",
      "metadata": {
        "id": "gntBwbkhUC5G",
        "colab_type": "code",
        "colab": {
          "base_uri": "https://localhost:8080/",
          "height": 102
        },
        "outputId": "4136360a-87b0-48a1-8010-223bdf6177e3"
      },
      "source": [
        "# clone the repository\n",
        "!git clone https://github.com/adebayoj/fairml.git"
      ],
      "execution_count": 5,
      "outputs": [
        {
          "output_type": "stream",
          "text": [
            "Cloning into 'fairml'...\n",
            "remote: Enumerating objects: 606, done.\u001b[K\n",
            "remote: Total 606 (delta 0), reused 0 (delta 0), pack-reused 606\n",
            "Receiving objects: 100% (606/606), 18.98 MiB | 38.04 MiB/s, done.\n",
            "Resolving deltas: 100% (311/311), done.\n"
          ],
          "name": "stdout"
        }
      ]
    },
    {
      "cell_type": "code",
      "metadata": {
        "id": "XsYFQrznAqse",
        "colab_type": "code",
        "colab": {}
      },
      "source": [
        "# Install using setup.py\n",
        "!sudo python /content/fairml/setup.py install"
      ],
      "execution_count": 0,
      "outputs": []
    },
    {
      "cell_type": "code",
      "metadata": {
        "id": "niYq32M7CTEP",
        "colab_type": "code",
        "colab": {}
      },
      "source": [
        "import numpy as np\n",
        "import pandas as pd\n",
        "import seaborn as sns\n",
        "import matplotlib.pyplot as plt\n",
        "from sklearn.linear_model import LogisticRegression"
      ],
      "execution_count": 0,
      "outputs": []
    },
    {
      "cell_type": "code",
      "metadata": {
        "id": "2OoTO4ZpDnSc",
        "colab_type": "code",
        "colab": {}
      },
      "source": [
        "plt.style.use('ggplot')\n",
        "plt.figure(figsize=(6, 6))"
      ],
      "execution_count": 0,
      "outputs": []
    },
    {
      "cell_type": "code",
      "metadata": {
        "id": "Vv2ZB6ApULZW",
        "colab_type": "code",
        "colab": {}
      },
      "source": [
        "\"\"\"\n",
        "Iimport the two key methods from fairml.\n",
        "audit_model takes:\n",
        "\n",
        "- (required) black-box function, which is the model to be audited\n",
        "- (required) sample_data to be perturbed for querying the function. \n",
        "    This has to be a pandas dataframe with no missing data.\n",
        "\n",
        "- other optional parameters that control the mechanics of the auditing process, for example:\n",
        "  - number_of_runs : number of iterations to perform\n",
        "  - interactions : flag to enable checking model dependence on interactions.\n",
        "\n",
        "audit_model returns an overloaded dictionary where keys are the column names of input pandas dataframe and values are lists containing model  dependence on that particular feature. These lists of size number_of_runs.\n",
        "\n",
        "\"\"\"\n",
        "from fairml import audit_model\n",
        "from fairml import plot_dependencies"
      ],
      "execution_count": 0,
      "outputs": []
    },
    {
      "cell_type": "code",
      "metadata": {
        "id": "_6OJ8CqFA_t_",
        "colab_type": "code",
        "colab": {}
      },
      "source": [
        "# Taking sample data from repo itself\n",
        "propublica_data = pd.read_csv(\"/content/fairml/doc/example_notebooks/propublica_data_for_fairml.csv\")"
      ],
      "execution_count": 0,
      "outputs": []
    },
    {
      "cell_type": "code",
      "metadata": {
        "id": "W0an5hV0BMGJ",
        "colab_type": "code",
        "colab": {}
      },
      "source": [
        "# create feature and design matrix for model building.\n",
        "compas_rating = propublica_data.score_factor.values\n",
        "propublica_data = propublica_data.drop(\"score_factor\", 1)"
      ],
      "execution_count": 0,
      "outputs": []
    },
    {
      "cell_type": "code",
      "metadata": {
        "id": "1rcJ7VDlULdb",
        "colab_type": "code",
        "colab": {}
      },
      "source": [
        "# this is just for demonstration, any classifier or regressor\n",
        "# can be used here. fairml only requires a predict function\n",
        "# to diagnose a black-box model."
      ],
      "execution_count": 0,
      "outputs": []
    },
    {
      "cell_type": "code",
      "metadata": {
        "id": "qY4CLUPGULje",
        "colab_type": "code",
        "colab": {
          "base_uri": "https://localhost:8080/",
          "height": 156
        },
        "outputId": "3ccaa62c-75ca-4e57-eb10-6f2458449337"
      },
      "source": [
        "# we fit a quick and dirty logistic regression sklearn\n",
        "# model here.\n",
        "clf = LogisticRegression(penalty='l2', C=0.01)\n",
        "clf.fit(propublica_data.values, compas_rating)"
      ],
      "execution_count": 15,
      "outputs": [
        {
          "output_type": "stream",
          "text": [
            "/usr/local/lib/python3.6/dist-packages/sklearn/linear_model/logistic.py:432: FutureWarning: Default solver will be changed to 'lbfgs' in 0.22. Specify a solver to silence this warning.\n",
            "  FutureWarning)\n"
          ],
          "name": "stderr"
        },
        {
          "output_type": "execute_result",
          "data": {
            "text/plain": [
              "LogisticRegression(C=0.01, class_weight=None, dual=False, fit_intercept=True,\n",
              "                   intercept_scaling=1, l1_ratio=None, max_iter=100,\n",
              "                   multi_class='warn', n_jobs=None, penalty='l2',\n",
              "                   random_state=None, solver='warn', tol=0.0001, verbose=0,\n",
              "                   warm_start=False)"
            ]
          },
          "metadata": {
            "tags": []
          },
          "execution_count": 15
        }
      ]
    },
    {
      "cell_type": "markdown",
      "metadata": {
        "id": "6SK_nAkHULuF",
        "colab_type": "text"
      },
      "source": [
        "Now let's audit the model built with FairML."
      ]
    },
    {
      "cell_type": "code",
      "metadata": {
        "id": "qeHtD4PYUL0A",
        "colab_type": "code",
        "colab": {}
      },
      "source": [
        "#  call audit model with model\n",
        "total, _ = audit_model(clf.predict, propublica_data)"
      ],
      "execution_count": 0,
      "outputs": []
    },
    {
      "cell_type": "code",
      "metadata": {
        "id": "a29jPtUaUL6g",
        "colab_type": "code",
        "colab": {
          "base_uri": "https://localhost:8080/",
          "height": 204
        },
        "outputId": "08d0d463-9a8a-4c79-ec70-fea2fba18a4b"
      },
      "source": [
        "# print feature importance\n",
        "print(total)"
      ],
      "execution_count": 17,
      "outputs": [
        {
          "output_type": "stream",
          "text": [
            "Feature: Two_yr_Recidivism,\t Importance: 0.22893713545042127\n",
            "Feature: Number_of_Priors,\t Importance: 0.3608230719377835\n",
            "Feature: Age_Above_FourtyFive,\t Importance: -0.006804925469863901\n",
            "Feature: Age_Below_TwentyFive,\t Importance: 0.15327284510693454\n",
            "Feature: African_American,\t Importance: 0.23493195074530135\n",
            "Feature: Asian,\t Importance: -0.0003240440699935191\n",
            "Feature: Hispanic,\t Importance: -0.008425145819831496\n",
            "Feature: Native_American,\t Importance: 0.0004860661049902787\n",
            "Feature: Other,\t Importance: -0.004860661049902786\n",
            "Feature: Female,\t Importance: 0.04536616979909268\n",
            "Feature: Misdemeanor,\t Importance: -0.052657161373946854\n"
          ],
          "name": "stdout"
        }
      ]
    },
    {
      "cell_type": "code",
      "metadata": {
        "id": "gIQeB87IUL4n",
        "colab_type": "code",
        "colab": {}
      },
      "source": [
        "# generate feature dependence plot\n",
        "fig = plot_dependencies(\n",
        "    total.median(),\n",
        "    reverse_values=False,\n",
        "    title=\"FairML feature dependence\"\n",
        ")"
      ],
      "execution_count": 0,
      "outputs": []
    },
    {
      "cell_type": "code",
      "metadata": {
        "id": "ulKrQP2QULyU",
        "colab_type": "code",
        "colab": {}
      },
      "source": [
        "file_name = \"fairml_propublica_linear_direct.png\"\n",
        "plt.savefig(file_name, transparent=False, bbox_inches='tight', dpi=250)"
      ],
      "execution_count": 0,
      "outputs": []
    },
    {
      "cell_type": "code",
      "metadata": {
        "id": "34vSJM7rCwsL",
        "colab_type": "code",
        "colab": {}
      },
      "source": [
        ""
      ],
      "execution_count": 0,
      "outputs": []
    },
    {
      "cell_type": "code",
      "metadata": {
        "id": "cvv1Z5N8ULrv",
        "colab_type": "code",
        "colab": {}
      },
      "source": [
        ""
      ],
      "execution_count": 0,
      "outputs": []
    },
    {
      "cell_type": "markdown",
      "metadata": {
        "id": "uGrs54LKULo9",
        "colab_type": "text"
      },
      "source": [
        "Trying on some other dataset"
      ]
    },
    {
      "cell_type": "code",
      "metadata": {
        "id": "SgLVs4xpJzms",
        "colab_type": "code",
        "colab": {}
      },
      "source": [
        "from sklearn.ensemble import RandomForestClassifier\n",
        "from sklearn.model_selection import train_test_split\n",
        "from sklearn.datasets import load_boston"
      ],
      "execution_count": 0,
      "outputs": []
    },
    {
      "cell_type": "code",
      "metadata": {
        "id": "-_m3YHLhIidN",
        "colab_type": "code",
        "colab": {}
      },
      "source": [
        "data = load_boston()"
      ],
      "execution_count": 0,
      "outputs": []
    },
    {
      "cell_type": "code",
      "metadata": {
        "id": "RuLNOzuFKck5",
        "colab_type": "code",
        "colab": {}
      },
      "source": [
        "boston_df = pd.DataFrame(data.data, columns = data.feature_names)"
      ],
      "execution_count": 0,
      "outputs": []
    },
    {
      "cell_type": "code",
      "metadata": {
        "id": "-_jGgSjGLcGN",
        "colab_type": "code",
        "colab": {
          "base_uri": "https://localhost:8080/",
          "height": 204
        },
        "outputId": "64cf7d1f-b066-47a9-f770-aded3c491568"
      },
      "source": [
        "boston_df.head()"
      ],
      "execution_count": 55,
      "outputs": [
        {
          "output_type": "execute_result",
          "data": {
            "text/html": [
              "<div>\n",
              "<style scoped>\n",
              "    .dataframe tbody tr th:only-of-type {\n",
              "        vertical-align: middle;\n",
              "    }\n",
              "\n",
              "    .dataframe tbody tr th {\n",
              "        vertical-align: top;\n",
              "    }\n",
              "\n",
              "    .dataframe thead th {\n",
              "        text-align: right;\n",
              "    }\n",
              "</style>\n",
              "<table border=\"1\" class=\"dataframe\">\n",
              "  <thead>\n",
              "    <tr style=\"text-align: right;\">\n",
              "      <th></th>\n",
              "      <th>CRIM</th>\n",
              "      <th>ZN</th>\n",
              "      <th>INDUS</th>\n",
              "      <th>CHAS</th>\n",
              "      <th>NOX</th>\n",
              "      <th>RM</th>\n",
              "      <th>AGE</th>\n",
              "      <th>DIS</th>\n",
              "      <th>RAD</th>\n",
              "      <th>TAX</th>\n",
              "      <th>PTRATIO</th>\n",
              "      <th>B</th>\n",
              "      <th>LSTAT</th>\n",
              "    </tr>\n",
              "  </thead>\n",
              "  <tbody>\n",
              "    <tr>\n",
              "      <th>0</th>\n",
              "      <td>0.00632</td>\n",
              "      <td>18.0</td>\n",
              "      <td>2.31</td>\n",
              "      <td>0.0</td>\n",
              "      <td>0.538</td>\n",
              "      <td>6.575</td>\n",
              "      <td>65.2</td>\n",
              "      <td>4.0900</td>\n",
              "      <td>1.0</td>\n",
              "      <td>296.0</td>\n",
              "      <td>15.3</td>\n",
              "      <td>396.90</td>\n",
              "      <td>4.98</td>\n",
              "    </tr>\n",
              "    <tr>\n",
              "      <th>1</th>\n",
              "      <td>0.02731</td>\n",
              "      <td>0.0</td>\n",
              "      <td>7.07</td>\n",
              "      <td>0.0</td>\n",
              "      <td>0.469</td>\n",
              "      <td>6.421</td>\n",
              "      <td>78.9</td>\n",
              "      <td>4.9671</td>\n",
              "      <td>2.0</td>\n",
              "      <td>242.0</td>\n",
              "      <td>17.8</td>\n",
              "      <td>396.90</td>\n",
              "      <td>9.14</td>\n",
              "    </tr>\n",
              "    <tr>\n",
              "      <th>2</th>\n",
              "      <td>0.02729</td>\n",
              "      <td>0.0</td>\n",
              "      <td>7.07</td>\n",
              "      <td>0.0</td>\n",
              "      <td>0.469</td>\n",
              "      <td>7.185</td>\n",
              "      <td>61.1</td>\n",
              "      <td>4.9671</td>\n",
              "      <td>2.0</td>\n",
              "      <td>242.0</td>\n",
              "      <td>17.8</td>\n",
              "      <td>392.83</td>\n",
              "      <td>4.03</td>\n",
              "    </tr>\n",
              "    <tr>\n",
              "      <th>3</th>\n",
              "      <td>0.03237</td>\n",
              "      <td>0.0</td>\n",
              "      <td>2.18</td>\n",
              "      <td>0.0</td>\n",
              "      <td>0.458</td>\n",
              "      <td>6.998</td>\n",
              "      <td>45.8</td>\n",
              "      <td>6.0622</td>\n",
              "      <td>3.0</td>\n",
              "      <td>222.0</td>\n",
              "      <td>18.7</td>\n",
              "      <td>394.63</td>\n",
              "      <td>2.94</td>\n",
              "    </tr>\n",
              "    <tr>\n",
              "      <th>4</th>\n",
              "      <td>0.06905</td>\n",
              "      <td>0.0</td>\n",
              "      <td>2.18</td>\n",
              "      <td>0.0</td>\n",
              "      <td>0.458</td>\n",
              "      <td>7.147</td>\n",
              "      <td>54.2</td>\n",
              "      <td>6.0622</td>\n",
              "      <td>3.0</td>\n",
              "      <td>222.0</td>\n",
              "      <td>18.7</td>\n",
              "      <td>396.90</td>\n",
              "      <td>5.33</td>\n",
              "    </tr>\n",
              "  </tbody>\n",
              "</table>\n",
              "</div>"
            ],
            "text/plain": [
              "      CRIM    ZN  INDUS  CHAS    NOX  ...  RAD    TAX  PTRATIO       B  LSTAT\n",
              "0  0.00632  18.0   2.31   0.0  0.538  ...  1.0  296.0     15.3  396.90   4.98\n",
              "1  0.02731   0.0   7.07   0.0  0.469  ...  2.0  242.0     17.8  396.90   9.14\n",
              "2  0.02729   0.0   7.07   0.0  0.469  ...  2.0  242.0     17.8  392.83   4.03\n",
              "3  0.03237   0.0   2.18   0.0  0.458  ...  3.0  222.0     18.7  394.63   2.94\n",
              "4  0.06905   0.0   2.18   0.0  0.458  ...  3.0  222.0     18.7  396.90   5.33\n",
              "\n",
              "[5 rows x 13 columns]"
            ]
          },
          "metadata": {
            "tags": []
          },
          "execution_count": 55
        }
      ]
    },
    {
      "cell_type": "code",
      "metadata": {
        "id": "8Yw52hMSMcKk",
        "colab_type": "code",
        "colab": {
          "base_uri": "https://localhost:8080/",
          "height": 34
        },
        "outputId": "1e4ef661-1f6c-44c9-b00c-7212fa57382d"
      },
      "source": [
        "boston_df.shape"
      ],
      "execution_count": 62,
      "outputs": [
        {
          "output_type": "execute_result",
          "data": {
            "text/plain": [
              "(506, 13)"
            ]
          },
          "metadata": {
            "tags": []
          },
          "execution_count": 62
        }
      ]
    },
    {
      "cell_type": "code",
      "metadata": {
        "id": "y3uBZ4_xM7kY",
        "colab_type": "code",
        "colab": {}
      },
      "source": [
        "def convert_to_int(val):\n",
        "    return int(val)"
      ],
      "execution_count": 0,
      "outputs": []
    },
    {
      "cell_type": "code",
      "metadata": {
        "id": "9gR32VRINYMy",
        "colab_type": "code",
        "colab": {}
      },
      "source": [
        "y = data.target"
      ],
      "execution_count": 0,
      "outputs": []
    },
    {
      "cell_type": "code",
      "metadata": {
        "id": "a_8qSd6UMeYS",
        "colab_type": "code",
        "colab": {}
      },
      "source": [
        "y = list(map(int, y))"
      ],
      "execution_count": 0,
      "outputs": []
    },
    {
      "cell_type": "code",
      "metadata": {
        "id": "XfMdBRw1LecF",
        "colab_type": "code",
        "colab": {}
      },
      "source": [
        "clf = RandomForestClassifier(random_state=0)"
      ],
      "execution_count": 0,
      "outputs": []
    },
    {
      "cell_type": "code",
      "metadata": {
        "id": "0Wr_7IqvLtM1",
        "colab_type": "code",
        "colab": {
          "base_uri": "https://localhost:8080/",
          "height": 136
        },
        "outputId": "6d12e330-e388-44c2-8b80-4a2ca12b4134"
      },
      "source": [
        "clf.fit(boston_df.values, y)"
      ],
      "execution_count": 72,
      "outputs": [
        {
          "output_type": "execute_result",
          "data": {
            "text/plain": [
              "RandomForestClassifier(bootstrap=True, class_weight=None, criterion='gini',\n",
              "                       max_depth=None, max_features='auto', max_leaf_nodes=None,\n",
              "                       min_impurity_decrease=0.0, min_impurity_split=None,\n",
              "                       min_samples_leaf=1, min_samples_split=2,\n",
              "                       min_weight_fraction_leaf=0.0, n_estimators=10,\n",
              "                       n_jobs=None, oob_score=False, random_state=0, verbose=0,\n",
              "                       warm_start=False)"
            ]
          },
          "metadata": {
            "tags": []
          },
          "execution_count": 72
        }
      ]
    },
    {
      "cell_type": "code",
      "metadata": {
        "id": "_LH-d8yVNmcW",
        "colab_type": "code",
        "colab": {}
      },
      "source": [
        "total, _ = audit_model(clf.predict, boston_df)"
      ],
      "execution_count": 0,
      "outputs": []
    },
    {
      "cell_type": "code",
      "metadata": {
        "id": "U9YUXY5jNxJF",
        "colab_type": "code",
        "colab": {
          "base_uri": "https://localhost:8080/",
          "height": 238
        },
        "outputId": "e21f1911-b2a2-4465-a034-794f1e5195e8"
      },
      "source": [
        "print(total)"
      ],
      "execution_count": 74,
      "outputs": [
        {
          "output_type": "stream",
          "text": [
            "Feature: CRIM,\t Importance: -43.901185770750985\n",
            "Feature: ZN,\t Importance: -16.284584980237153\n",
            "Feature: INDUS,\t Importance: -114.81225296442688\n",
            "Feature: CHAS,\t Importance: -10.49802371541502\n",
            "Feature: NOX,\t Importance: -93.22332015810277\n",
            "Feature: RM,\t Importance: 82.45256916996047\n",
            "Feature: AGE,\t Importance: -87.8913043478261\n",
            "Feature: DIS,\t Importance: -80.03754940711462\n",
            "Feature: RAD,\t Importance: -87.55335968379447\n",
            "Feature: TAX,\t Importance: -105.0494071146245\n",
            "Feature: PTRATIO,\t Importance: -82.88735177865613\n",
            "Feature: B,\t Importance: 83.88932806324111\n",
            "Feature: LSTAT,\t Importance: -99.45849802371542\n"
          ],
          "name": "stdout"
        }
      ]
    },
    {
      "cell_type": "code",
      "metadata": {
        "id": "uj5z43T0OKHd",
        "colab_type": "code",
        "colab": {}
      },
      "source": [
        "fig = plot_dependencies(\n",
        "    total.median(),\n",
        "    reverse_values=True,\n",
        "    title=\"FairML feature dependence\"\n",
        ")"
      ],
      "execution_count": 0,
      "outputs": []
    },
    {
      "cell_type": "code",
      "metadata": {
        "id": "-B4dLyPfOPUQ",
        "colab_type": "code",
        "colab": {}
      },
      "source": [
        "file_name = \"fairml_linear_direct.png\"\n",
        "plt.savefig(file_name, transparent=False, bbox_inches='tight', dpi=250)"
      ],
      "execution_count": 0,
      "outputs": []
    }
  ]
}